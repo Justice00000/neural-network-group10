{
  "nbformat": 4,
  "nbformat_minor": 0,
  "metadata": {
    "colab": {
      "provenance": []
    },
    "kernelspec": {
      "name": "python3",
      "display_name": "Python 3"
    },
    "language_info": {
      "name": "python"
    }
  },
  "cells": [
    {
      "cell_type": "markdown",
      "source": [
        "# Excercise - Creating our own custom Model"
      ],
      "metadata": {
        "id": "I-boesmQE039"
      }
    },
    {
      "cell_type": "markdown",
      "source": [
        "This is a notebook that provides a quick overview of how to create your own custom model. You will be creating a simple model. You will be utilizing Keras and Tensorflow"
      ],
      "metadata": {
        "id": "sqgXCLZhE8os"
      }
    },
    {
      "cell_type": "markdown",
      "source": [
        "# Water Quality Dataset"
      ],
      "metadata": {
        "id": "Xr_yQkJvFILf"
      }
    },
    {
      "cell_type": "markdown",
      "source": [
        "This dataset contains water quality measurements and assessments related to potability, which is the suitability of water for human consumption. The dataset's primary objective is to provide insights into water quality parameters and assist in determining whether the water is potable or not. Each row in the dataset represents a water sample with specific attributes, and the \"Potability\" column indicates whether the water is suitable for consumption.\n",
        "\n",
        "## https://www.kaggle.com/datasets/uom190346a/water-quality-and-potability?select=water_potability.csv"
      ],
      "metadata": {
        "id": "nUvXLf16PwMZ"
      }
    },
    {
      "cell_type": "code",
      "source": [
        "# import libraries\n",
        "import tensorflow as tf\n",
        "from tensorflow import keras\n",
        "from tensorflow.keras import layers, regularizers\n",
        "from sklearn.model_selection import train_test_split\n",
        "from sklearn.preprocessing import StandardScaler\n",
        "from matplotlib.pyplot import matplotlib\n",
        "import matplotlib.pyplot as plt\n",
        "import numpy as np\n",
        "import pandas as pd\n",
        "import seaborn as sns\n"
      ],
      "metadata": {
        "id": "8-pKhB11oPAh"
      },
      "execution_count": null,
      "outputs": []
    },
    {
      "cell_type": "code",
      "source": [
        "#Load the dataset\n",
        "import pandas as pd\n",
        "df = pd.read_csv(\"water_potability.csv\")"
      ],
      "metadata": {
        "id": "uiG8kiRHE3fc"
      },
      "execution_count": null,
      "outputs": []
    },
    {
      "cell_type": "code",
      "source": [
        "df.head()"
      ],
      "metadata": {
        "colab": {
          "base_uri": "https://localhost:8080/",
          "height": 226
        },
        "id": "cozUuT1OQtjx",
        "outputId": "6fa3fc15-ae21-46b9-ae72-63d969e0fe92"
      },
      "execution_count": null,
      "outputs": [
        {
          "output_type": "execute_result",
          "data": {
            "text/plain": [
              "         ph    Hardness        Solids  Chloramines     Sulfate  Conductivity  \\\n",
              "0       NaN  204.890455  20791.318981     7.300212  368.516441    564.308654   \n",
              "1  3.716080  129.422921  18630.057858     6.635246         NaN    592.885359   \n",
              "2  8.099124  224.236259  19909.541732     9.275884         NaN    418.606213   \n",
              "3  8.316766  214.373394  22018.417441     8.059332  356.886136    363.266516   \n",
              "4  9.092223  181.101509  17978.986339     6.546600  310.135738    398.410813   \n",
              "\n",
              "   Organic_carbon  Trihalomethanes  Turbidity  Potability  \n",
              "0       10.379783        86.990970   2.963135           0  \n",
              "1       15.180013        56.329076   4.500656           0  \n",
              "2       16.868637        66.420093   3.055934           0  \n",
              "3       18.436524       100.341674   4.628771           0  \n",
              "4       11.558279        31.997993   4.075075           0  "
            ],
            "text/html": [
              "\n",
              "  <div id=\"df-987e1fe3-5e57-42db-887b-bc4074a55873\" class=\"colab-df-container\">\n",
              "    <div>\n",
              "<style scoped>\n",
              "    .dataframe tbody tr th:only-of-type {\n",
              "        vertical-align: middle;\n",
              "    }\n",
              "\n",
              "    .dataframe tbody tr th {\n",
              "        vertical-align: top;\n",
              "    }\n",
              "\n",
              "    .dataframe thead th {\n",
              "        text-align: right;\n",
              "    }\n",
              "</style>\n",
              "<table border=\"1\" class=\"dataframe\">\n",
              "  <thead>\n",
              "    <tr style=\"text-align: right;\">\n",
              "      <th></th>\n",
              "      <th>ph</th>\n",
              "      <th>Hardness</th>\n",
              "      <th>Solids</th>\n",
              "      <th>Chloramines</th>\n",
              "      <th>Sulfate</th>\n",
              "      <th>Conductivity</th>\n",
              "      <th>Organic_carbon</th>\n",
              "      <th>Trihalomethanes</th>\n",
              "      <th>Turbidity</th>\n",
              "      <th>Potability</th>\n",
              "    </tr>\n",
              "  </thead>\n",
              "  <tbody>\n",
              "    <tr>\n",
              "      <th>0</th>\n",
              "      <td>NaN</td>\n",
              "      <td>204.890455</td>\n",
              "      <td>20791.318981</td>\n",
              "      <td>7.300212</td>\n",
              "      <td>368.516441</td>\n",
              "      <td>564.308654</td>\n",
              "      <td>10.379783</td>\n",
              "      <td>86.990970</td>\n",
              "      <td>2.963135</td>\n",
              "      <td>0</td>\n",
              "    </tr>\n",
              "    <tr>\n",
              "      <th>1</th>\n",
              "      <td>3.716080</td>\n",
              "      <td>129.422921</td>\n",
              "      <td>18630.057858</td>\n",
              "      <td>6.635246</td>\n",
              "      <td>NaN</td>\n",
              "      <td>592.885359</td>\n",
              "      <td>15.180013</td>\n",
              "      <td>56.329076</td>\n",
              "      <td>4.500656</td>\n",
              "      <td>0</td>\n",
              "    </tr>\n",
              "    <tr>\n",
              "      <th>2</th>\n",
              "      <td>8.099124</td>\n",
              "      <td>224.236259</td>\n",
              "      <td>19909.541732</td>\n",
              "      <td>9.275884</td>\n",
              "      <td>NaN</td>\n",
              "      <td>418.606213</td>\n",
              "      <td>16.868637</td>\n",
              "      <td>66.420093</td>\n",
              "      <td>3.055934</td>\n",
              "      <td>0</td>\n",
              "    </tr>\n",
              "    <tr>\n",
              "      <th>3</th>\n",
              "      <td>8.316766</td>\n",
              "      <td>214.373394</td>\n",
              "      <td>22018.417441</td>\n",
              "      <td>8.059332</td>\n",
              "      <td>356.886136</td>\n",
              "      <td>363.266516</td>\n",
              "      <td>18.436524</td>\n",
              "      <td>100.341674</td>\n",
              "      <td>4.628771</td>\n",
              "      <td>0</td>\n",
              "    </tr>\n",
              "    <tr>\n",
              "      <th>4</th>\n",
              "      <td>9.092223</td>\n",
              "      <td>181.101509</td>\n",
              "      <td>17978.986339</td>\n",
              "      <td>6.546600</td>\n",
              "      <td>310.135738</td>\n",
              "      <td>398.410813</td>\n",
              "      <td>11.558279</td>\n",
              "      <td>31.997993</td>\n",
              "      <td>4.075075</td>\n",
              "      <td>0</td>\n",
              "    </tr>\n",
              "  </tbody>\n",
              "</table>\n",
              "</div>\n",
              "    <div class=\"colab-df-buttons\">\n",
              "\n",
              "  <div class=\"colab-df-container\">\n",
              "    <button class=\"colab-df-convert\" onclick=\"convertToInteractive('df-987e1fe3-5e57-42db-887b-bc4074a55873')\"\n",
              "            title=\"Convert this dataframe to an interactive table.\"\n",
              "            style=\"display:none;\">\n",
              "\n",
              "  <svg xmlns=\"http://www.w3.org/2000/svg\" height=\"24px\" viewBox=\"0 -960 960 960\">\n",
              "    <path d=\"M120-120v-720h720v720H120Zm60-500h600v-160H180v160Zm220 220h160v-160H400v160Zm0 220h160v-160H400v160ZM180-400h160v-160H180v160Zm440 0h160v-160H620v160ZM180-180h160v-160H180v160Zm440 0h160v-160H620v160Z\"/>\n",
              "  </svg>\n",
              "    </button>\n",
              "\n",
              "  <style>\n",
              "    .colab-df-container {\n",
              "      display:flex;\n",
              "      gap: 12px;\n",
              "    }\n",
              "\n",
              "    .colab-df-convert {\n",
              "      background-color: #E8F0FE;\n",
              "      border: none;\n",
              "      border-radius: 50%;\n",
              "      cursor: pointer;\n",
              "      display: none;\n",
              "      fill: #1967D2;\n",
              "      height: 32px;\n",
              "      padding: 0 0 0 0;\n",
              "      width: 32px;\n",
              "    }\n",
              "\n",
              "    .colab-df-convert:hover {\n",
              "      background-color: #E2EBFA;\n",
              "      box-shadow: 0px 1px 2px rgba(60, 64, 67, 0.3), 0px 1px 3px 1px rgba(60, 64, 67, 0.15);\n",
              "      fill: #174EA6;\n",
              "    }\n",
              "\n",
              "    .colab-df-buttons div {\n",
              "      margin-bottom: 4px;\n",
              "    }\n",
              "\n",
              "    [theme=dark] .colab-df-convert {\n",
              "      background-color: #3B4455;\n",
              "      fill: #D2E3FC;\n",
              "    }\n",
              "\n",
              "    [theme=dark] .colab-df-convert:hover {\n",
              "      background-color: #434B5C;\n",
              "      box-shadow: 0px 1px 3px 1px rgba(0, 0, 0, 0.15);\n",
              "      filter: drop-shadow(0px 1px 2px rgba(0, 0, 0, 0.3));\n",
              "      fill: #FFFFFF;\n",
              "    }\n",
              "  </style>\n",
              "\n",
              "    <script>\n",
              "      const buttonEl =\n",
              "        document.querySelector('#df-987e1fe3-5e57-42db-887b-bc4074a55873 button.colab-df-convert');\n",
              "      buttonEl.style.display =\n",
              "        google.colab.kernel.accessAllowed ? 'block' : 'none';\n",
              "\n",
              "      async function convertToInteractive(key) {\n",
              "        const element = document.querySelector('#df-987e1fe3-5e57-42db-887b-bc4074a55873');\n",
              "        const dataTable =\n",
              "          await google.colab.kernel.invokeFunction('convertToInteractive',\n",
              "                                                    [key], {});\n",
              "        if (!dataTable) return;\n",
              "\n",
              "        const docLinkHtml = 'Like what you see? Visit the ' +\n",
              "          '<a target=\"_blank\" href=https://colab.research.google.com/notebooks/data_table.ipynb>data table notebook</a>'\n",
              "          + ' to learn more about interactive tables.';\n",
              "        element.innerHTML = '';\n",
              "        dataTable['output_type'] = 'display_data';\n",
              "        await google.colab.output.renderOutput(dataTable, element);\n",
              "        const docLink = document.createElement('div');\n",
              "        docLink.innerHTML = docLinkHtml;\n",
              "        element.appendChild(docLink);\n",
              "      }\n",
              "    </script>\n",
              "  </div>\n",
              "\n",
              "\n",
              "<div id=\"df-b5ef74cc-9ff2-4d6d-99a5-d58f86fd7d47\">\n",
              "  <button class=\"colab-df-quickchart\" onclick=\"quickchart('df-b5ef74cc-9ff2-4d6d-99a5-d58f86fd7d47')\"\n",
              "            title=\"Suggest charts\"\n",
              "            style=\"display:none;\">\n",
              "\n",
              "<svg xmlns=\"http://www.w3.org/2000/svg\" height=\"24px\"viewBox=\"0 0 24 24\"\n",
              "     width=\"24px\">\n",
              "    <g>\n",
              "        <path d=\"M19 3H5c-1.1 0-2 .9-2 2v14c0 1.1.9 2 2 2h14c1.1 0 2-.9 2-2V5c0-1.1-.9-2-2-2zM9 17H7v-7h2v7zm4 0h-2V7h2v10zm4 0h-2v-4h2v4z\"/>\n",
              "    </g>\n",
              "</svg>\n",
              "  </button>\n",
              "\n",
              "<style>\n",
              "  .colab-df-quickchart {\n",
              "      --bg-color: #E8F0FE;\n",
              "      --fill-color: #1967D2;\n",
              "      --hover-bg-color: #E2EBFA;\n",
              "      --hover-fill-color: #174EA6;\n",
              "      --disabled-fill-color: #AAA;\n",
              "      --disabled-bg-color: #DDD;\n",
              "  }\n",
              "\n",
              "  [theme=dark] .colab-df-quickchart {\n",
              "      --bg-color: #3B4455;\n",
              "      --fill-color: #D2E3FC;\n",
              "      --hover-bg-color: #434B5C;\n",
              "      --hover-fill-color: #FFFFFF;\n",
              "      --disabled-bg-color: #3B4455;\n",
              "      --disabled-fill-color: #666;\n",
              "  }\n",
              "\n",
              "  .colab-df-quickchart {\n",
              "    background-color: var(--bg-color);\n",
              "    border: none;\n",
              "    border-radius: 50%;\n",
              "    cursor: pointer;\n",
              "    display: none;\n",
              "    fill: var(--fill-color);\n",
              "    height: 32px;\n",
              "    padding: 0;\n",
              "    width: 32px;\n",
              "  }\n",
              "\n",
              "  .colab-df-quickchart:hover {\n",
              "    background-color: var(--hover-bg-color);\n",
              "    box-shadow: 0 1px 2px rgba(60, 64, 67, 0.3), 0 1px 3px 1px rgba(60, 64, 67, 0.15);\n",
              "    fill: var(--button-hover-fill-color);\n",
              "  }\n",
              "\n",
              "  .colab-df-quickchart-complete:disabled,\n",
              "  .colab-df-quickchart-complete:disabled:hover {\n",
              "    background-color: var(--disabled-bg-color);\n",
              "    fill: var(--disabled-fill-color);\n",
              "    box-shadow: none;\n",
              "  }\n",
              "\n",
              "  .colab-df-spinner {\n",
              "    border: 2px solid var(--fill-color);\n",
              "    border-color: transparent;\n",
              "    border-bottom-color: var(--fill-color);\n",
              "    animation:\n",
              "      spin 1s steps(1) infinite;\n",
              "  }\n",
              "\n",
              "  @keyframes spin {\n",
              "    0% {\n",
              "      border-color: transparent;\n",
              "      border-bottom-color: var(--fill-color);\n",
              "      border-left-color: var(--fill-color);\n",
              "    }\n",
              "    20% {\n",
              "      border-color: transparent;\n",
              "      border-left-color: var(--fill-color);\n",
              "      border-top-color: var(--fill-color);\n",
              "    }\n",
              "    30% {\n",
              "      border-color: transparent;\n",
              "      border-left-color: var(--fill-color);\n",
              "      border-top-color: var(--fill-color);\n",
              "      border-right-color: var(--fill-color);\n",
              "    }\n",
              "    40% {\n",
              "      border-color: transparent;\n",
              "      border-right-color: var(--fill-color);\n",
              "      border-top-color: var(--fill-color);\n",
              "    }\n",
              "    60% {\n",
              "      border-color: transparent;\n",
              "      border-right-color: var(--fill-color);\n",
              "    }\n",
              "    80% {\n",
              "      border-color: transparent;\n",
              "      border-right-color: var(--fill-color);\n",
              "      border-bottom-color: var(--fill-color);\n",
              "    }\n",
              "    90% {\n",
              "      border-color: transparent;\n",
              "      border-bottom-color: var(--fill-color);\n",
              "    }\n",
              "  }\n",
              "</style>\n",
              "\n",
              "  <script>\n",
              "    async function quickchart(key) {\n",
              "      const quickchartButtonEl =\n",
              "        document.querySelector('#' + key + ' button');\n",
              "      quickchartButtonEl.disabled = true;  // To prevent multiple clicks.\n",
              "      quickchartButtonEl.classList.add('colab-df-spinner');\n",
              "      try {\n",
              "        const charts = await google.colab.kernel.invokeFunction(\n",
              "            'suggestCharts', [key], {});\n",
              "      } catch (error) {\n",
              "        console.error('Error during call to suggestCharts:', error);\n",
              "      }\n",
              "      quickchartButtonEl.classList.remove('colab-df-spinner');\n",
              "      quickchartButtonEl.classList.add('colab-df-quickchart-complete');\n",
              "    }\n",
              "    (() => {\n",
              "      let quickchartButtonEl =\n",
              "        document.querySelector('#df-b5ef74cc-9ff2-4d6d-99a5-d58f86fd7d47 button');\n",
              "      quickchartButtonEl.style.display =\n",
              "        google.colab.kernel.accessAllowed ? 'block' : 'none';\n",
              "    })();\n",
              "  </script>\n",
              "</div>\n",
              "\n",
              "    </div>\n",
              "  </div>\n"
            ],
            "application/vnd.google.colaboratory.intrinsic+json": {
              "type": "dataframe",
              "variable_name": "df",
              "summary": "{\n  \"name\": \"df\",\n  \"rows\": 3276,\n  \"fields\": [\n    {\n      \"column\": \"ph\",\n      \"properties\": {\n        \"dtype\": \"number\",\n        \"std\": 1.5943195187088117,\n        \"min\": 0.0,\n        \"max\": 13.999999999999998,\n        \"num_unique_values\": 2785,\n        \"samples\": [\n          6.569053876389385,\n          9.271355446767778,\n          8.92790592593881\n        ],\n        \"semantic_type\": \"\",\n        \"description\": \"\"\n      }\n    },\n    {\n      \"column\": \"Hardness\",\n      \"properties\": {\n        \"dtype\": \"number\",\n        \"std\": 32.879761476294185,\n        \"min\": 47.432,\n        \"max\": 323.124,\n        \"num_unique_values\": 3276,\n        \"samples\": [\n          183.5211070261417,\n          188.9135411469536,\n          224.05887682392927\n        ],\n        \"semantic_type\": \"\",\n        \"description\": \"\"\n      }\n    },\n    {\n      \"column\": \"Solids\",\n      \"properties\": {\n        \"dtype\": \"number\",\n        \"std\": 8768.570827785932,\n        \"min\": 320.942611274359,\n        \"max\": 61227.19600771213,\n        \"num_unique_values\": 3276,\n        \"samples\": [\n          20461.252710219946,\n          32873.820021715685,\n          23264.10996772913\n        ],\n        \"semantic_type\": \"\",\n        \"description\": \"\"\n      }\n    },\n    {\n      \"column\": \"Chloramines\",\n      \"properties\": {\n        \"dtype\": \"number\",\n        \"std\": 1.58308488903971,\n        \"min\": 0.3520000000000003,\n        \"max\": 13.127000000000002,\n        \"num_unique_values\": 3276,\n        \"samples\": [\n          7.333212177578906,\n          6.791509363412849,\n          5.92236704115349\n        ],\n        \"semantic_type\": \"\",\n        \"description\": \"\"\n      }\n    },\n    {\n      \"column\": \"Sulfate\",\n      \"properties\": {\n        \"dtype\": \"number\",\n        \"std\": 41.416840461672685,\n        \"min\": 129.00000000000003,\n        \"max\": 481.0306423059972,\n        \"num_unique_values\": 2495,\n        \"samples\": [\n          324.64407957923544,\n          370.121384654358,\n          329.12773842254506\n        ],\n        \"semantic_type\": \"\",\n        \"description\": \"\"\n      }\n    },\n    {\n      \"column\": \"Conductivity\",\n      \"properties\": {\n        \"dtype\": \"number\",\n        \"std\": 80.82406405111182,\n        \"min\": 181.483753985146,\n        \"max\": 753.3426195583046,\n        \"num_unique_values\": 3276,\n        \"samples\": [\n          356.3690224100897,\n          336.56150104700754,\n          387.971335796834\n        ],\n        \"semantic_type\": \"\",\n        \"description\": \"\"\n      }\n    },\n    {\n      \"column\": \"Organic_carbon\",\n      \"properties\": {\n        \"dtype\": \"number\",\n        \"std\": 3.308161999126868,\n        \"min\": 2.1999999999999886,\n        \"max\": 28.30000000000001,\n        \"num_unique_values\": 3276,\n        \"samples\": [\n          20.179028868493845,\n          14.706810313722087,\n          13.40673745495127\n        ],\n        \"semantic_type\": \"\",\n        \"description\": \"\"\n      }\n    },\n    {\n      \"column\": \"Trihalomethanes\",\n      \"properties\": {\n        \"dtype\": \"number\",\n        \"std\": 16.17500842221865,\n        \"min\": 0.7379999999999995,\n        \"max\": 124.0,\n        \"num_unique_values\": 3114,\n        \"samples\": [\n          66.163439242252,\n          42.844510851301166,\n          47.06639219544294\n        ],\n        \"semantic_type\": \"\",\n        \"description\": \"\"\n      }\n    },\n    {\n      \"column\": \"Turbidity\",\n      \"properties\": {\n        \"dtype\": \"number\",\n        \"std\": 0.7803824084854116,\n        \"min\": 1.45,\n        \"max\": 6.739,\n        \"num_unique_values\": 3276,\n        \"samples\": [\n          4.886633785371213,\n          4.562197671215202,\n          2.487968647002356\n        ],\n        \"semantic_type\": \"\",\n        \"description\": \"\"\n      }\n    },\n    {\n      \"column\": \"Potability\",\n      \"properties\": {\n        \"dtype\": \"number\",\n        \"std\": 0,\n        \"min\": 0,\n        \"max\": 1,\n        \"num_unique_values\": 2,\n        \"samples\": [\n          1,\n          0\n        ],\n        \"semantic_type\": \"\",\n        \"description\": \"\"\n      }\n    }\n  ]\n}"
            }
          },
          "metadata": {},
          "execution_count": 31
        }
      ]
    },
    {
      "cell_type": "code",
      "source": [
        "df.shape"
      ],
      "metadata": {
        "colab": {
          "base_uri": "https://localhost:8080/"
        },
        "id": "ZlE8KjJCSoxS",
        "outputId": "16d00311-d7e6-44f9-d66a-ac0bfadc4d74"
      },
      "execution_count": null,
      "outputs": [
        {
          "output_type": "execute_result",
          "data": {
            "text/plain": [
              "(3276, 10)"
            ]
          },
          "metadata": {},
          "execution_count": 32
        }
      ]
    },
    {
      "cell_type": "code",
      "source": [
        "df.info()"
      ],
      "metadata": {
        "colab": {
          "base_uri": "https://localhost:8080/"
        },
        "id": "bJdvSu8KSwbC",
        "outputId": "f731d21e-0249-4329-fa32-3a668c84e0ae"
      },
      "execution_count": null,
      "outputs": [
        {
          "output_type": "stream",
          "name": "stdout",
          "text": [
            "<class 'pandas.core.frame.DataFrame'>\n",
            "RangeIndex: 3276 entries, 0 to 3275\n",
            "Data columns (total 10 columns):\n",
            " #   Column           Non-Null Count  Dtype  \n",
            "---  ------           --------------  -----  \n",
            " 0   ph               2785 non-null   float64\n",
            " 1   Hardness         3276 non-null   float64\n",
            " 2   Solids           3276 non-null   float64\n",
            " 3   Chloramines      3276 non-null   float64\n",
            " 4   Sulfate          2495 non-null   float64\n",
            " 5   Conductivity     3276 non-null   float64\n",
            " 6   Organic_carbon   3276 non-null   float64\n",
            " 7   Trihalomethanes  3114 non-null   float64\n",
            " 8   Turbidity        3276 non-null   float64\n",
            " 9   Potability       3276 non-null   int64  \n",
            "dtypes: float64(9), int64(1)\n",
            "memory usage: 256.1 KB\n"
          ]
        }
      ]
    },
    {
      "cell_type": "code",
      "source": [
        "# summary of Dataset\n",
        "df.describe()"
      ],
      "metadata": {
        "colab": {
          "base_uri": "https://localhost:8080/",
          "height": 320
        },
        "id": "zl2XSn8DS93A",
        "outputId": "85343bc6-fe73-4b0c-9b3d-cbd9a90cb300"
      },
      "execution_count": null,
      "outputs": [
        {
          "output_type": "execute_result",
          "data": {
            "text/plain": [
              "                ph     Hardness        Solids  Chloramines      Sulfate  \\\n",
              "count  2785.000000  3276.000000   3276.000000  3276.000000  2495.000000   \n",
              "mean      7.080795   196.369496  22014.092526     7.122277   333.775777   \n",
              "std       1.594320    32.879761   8768.570828     1.583085    41.416840   \n",
              "min       0.000000    47.432000    320.942611     0.352000   129.000000   \n",
              "25%       6.093092   176.850538  15666.690297     6.127421   307.699498   \n",
              "50%       7.036752   196.967627  20927.833607     7.130299   333.073546   \n",
              "75%       8.062066   216.667456  27332.762127     8.114887   359.950170   \n",
              "max      14.000000   323.124000  61227.196008    13.127000   481.030642   \n",
              "\n",
              "       Conductivity  Organic_carbon  Trihalomethanes    Turbidity   Potability  \n",
              "count   3276.000000     3276.000000      3114.000000  3276.000000  3276.000000  \n",
              "mean     426.205111       14.284970        66.396293     3.966786     0.390110  \n",
              "std       80.824064        3.308162        16.175008     0.780382     0.487849  \n",
              "min      181.483754        2.200000         0.738000     1.450000     0.000000  \n",
              "25%      365.734414       12.065801        55.844536     3.439711     0.000000  \n",
              "50%      421.884968       14.218338        66.622485     3.955028     0.000000  \n",
              "75%      481.792304       16.557652        77.337473     4.500320     1.000000  \n",
              "max      753.342620       28.300000       124.000000     6.739000     1.000000  "
            ],
            "text/html": [
              "\n",
              "  <div id=\"df-d863e538-1949-4f3a-a949-487149081e19\" class=\"colab-df-container\">\n",
              "    <div>\n",
              "<style scoped>\n",
              "    .dataframe tbody tr th:only-of-type {\n",
              "        vertical-align: middle;\n",
              "    }\n",
              "\n",
              "    .dataframe tbody tr th {\n",
              "        vertical-align: top;\n",
              "    }\n",
              "\n",
              "    .dataframe thead th {\n",
              "        text-align: right;\n",
              "    }\n",
              "</style>\n",
              "<table border=\"1\" class=\"dataframe\">\n",
              "  <thead>\n",
              "    <tr style=\"text-align: right;\">\n",
              "      <th></th>\n",
              "      <th>ph</th>\n",
              "      <th>Hardness</th>\n",
              "      <th>Solids</th>\n",
              "      <th>Chloramines</th>\n",
              "      <th>Sulfate</th>\n",
              "      <th>Conductivity</th>\n",
              "      <th>Organic_carbon</th>\n",
              "      <th>Trihalomethanes</th>\n",
              "      <th>Turbidity</th>\n",
              "      <th>Potability</th>\n",
              "    </tr>\n",
              "  </thead>\n",
              "  <tbody>\n",
              "    <tr>\n",
              "      <th>count</th>\n",
              "      <td>2785.000000</td>\n",
              "      <td>3276.000000</td>\n",
              "      <td>3276.000000</td>\n",
              "      <td>3276.000000</td>\n",
              "      <td>2495.000000</td>\n",
              "      <td>3276.000000</td>\n",
              "      <td>3276.000000</td>\n",
              "      <td>3114.000000</td>\n",
              "      <td>3276.000000</td>\n",
              "      <td>3276.000000</td>\n",
              "    </tr>\n",
              "    <tr>\n",
              "      <th>mean</th>\n",
              "      <td>7.080795</td>\n",
              "      <td>196.369496</td>\n",
              "      <td>22014.092526</td>\n",
              "      <td>7.122277</td>\n",
              "      <td>333.775777</td>\n",
              "      <td>426.205111</td>\n",
              "      <td>14.284970</td>\n",
              "      <td>66.396293</td>\n",
              "      <td>3.966786</td>\n",
              "      <td>0.390110</td>\n",
              "    </tr>\n",
              "    <tr>\n",
              "      <th>std</th>\n",
              "      <td>1.594320</td>\n",
              "      <td>32.879761</td>\n",
              "      <td>8768.570828</td>\n",
              "      <td>1.583085</td>\n",
              "      <td>41.416840</td>\n",
              "      <td>80.824064</td>\n",
              "      <td>3.308162</td>\n",
              "      <td>16.175008</td>\n",
              "      <td>0.780382</td>\n",
              "      <td>0.487849</td>\n",
              "    </tr>\n",
              "    <tr>\n",
              "      <th>min</th>\n",
              "      <td>0.000000</td>\n",
              "      <td>47.432000</td>\n",
              "      <td>320.942611</td>\n",
              "      <td>0.352000</td>\n",
              "      <td>129.000000</td>\n",
              "      <td>181.483754</td>\n",
              "      <td>2.200000</td>\n",
              "      <td>0.738000</td>\n",
              "      <td>1.450000</td>\n",
              "      <td>0.000000</td>\n",
              "    </tr>\n",
              "    <tr>\n",
              "      <th>25%</th>\n",
              "      <td>6.093092</td>\n",
              "      <td>176.850538</td>\n",
              "      <td>15666.690297</td>\n",
              "      <td>6.127421</td>\n",
              "      <td>307.699498</td>\n",
              "      <td>365.734414</td>\n",
              "      <td>12.065801</td>\n",
              "      <td>55.844536</td>\n",
              "      <td>3.439711</td>\n",
              "      <td>0.000000</td>\n",
              "    </tr>\n",
              "    <tr>\n",
              "      <th>50%</th>\n",
              "      <td>7.036752</td>\n",
              "      <td>196.967627</td>\n",
              "      <td>20927.833607</td>\n",
              "      <td>7.130299</td>\n",
              "      <td>333.073546</td>\n",
              "      <td>421.884968</td>\n",
              "      <td>14.218338</td>\n",
              "      <td>66.622485</td>\n",
              "      <td>3.955028</td>\n",
              "      <td>0.000000</td>\n",
              "    </tr>\n",
              "    <tr>\n",
              "      <th>75%</th>\n",
              "      <td>8.062066</td>\n",
              "      <td>216.667456</td>\n",
              "      <td>27332.762127</td>\n",
              "      <td>8.114887</td>\n",
              "      <td>359.950170</td>\n",
              "      <td>481.792304</td>\n",
              "      <td>16.557652</td>\n",
              "      <td>77.337473</td>\n",
              "      <td>4.500320</td>\n",
              "      <td>1.000000</td>\n",
              "    </tr>\n",
              "    <tr>\n",
              "      <th>max</th>\n",
              "      <td>14.000000</td>\n",
              "      <td>323.124000</td>\n",
              "      <td>61227.196008</td>\n",
              "      <td>13.127000</td>\n",
              "      <td>481.030642</td>\n",
              "      <td>753.342620</td>\n",
              "      <td>28.300000</td>\n",
              "      <td>124.000000</td>\n",
              "      <td>6.739000</td>\n",
              "      <td>1.000000</td>\n",
              "    </tr>\n",
              "  </tbody>\n",
              "</table>\n",
              "</div>\n",
              "    <div class=\"colab-df-buttons\">\n",
              "\n",
              "  <div class=\"colab-df-container\">\n",
              "    <button class=\"colab-df-convert\" onclick=\"convertToInteractive('df-d863e538-1949-4f3a-a949-487149081e19')\"\n",
              "            title=\"Convert this dataframe to an interactive table.\"\n",
              "            style=\"display:none;\">\n",
              "\n",
              "  <svg xmlns=\"http://www.w3.org/2000/svg\" height=\"24px\" viewBox=\"0 -960 960 960\">\n",
              "    <path d=\"M120-120v-720h720v720H120Zm60-500h600v-160H180v160Zm220 220h160v-160H400v160Zm0 220h160v-160H400v160ZM180-400h160v-160H180v160Zm440 0h160v-160H620v160ZM180-180h160v-160H180v160Zm440 0h160v-160H620v160Z\"/>\n",
              "  </svg>\n",
              "    </button>\n",
              "\n",
              "  <style>\n",
              "    .colab-df-container {\n",
              "      display:flex;\n",
              "      gap: 12px;\n",
              "    }\n",
              "\n",
              "    .colab-df-convert {\n",
              "      background-color: #E8F0FE;\n",
              "      border: none;\n",
              "      border-radius: 50%;\n",
              "      cursor: pointer;\n",
              "      display: none;\n",
              "      fill: #1967D2;\n",
              "      height: 32px;\n",
              "      padding: 0 0 0 0;\n",
              "      width: 32px;\n",
              "    }\n",
              "\n",
              "    .colab-df-convert:hover {\n",
              "      background-color: #E2EBFA;\n",
              "      box-shadow: 0px 1px 2px rgba(60, 64, 67, 0.3), 0px 1px 3px 1px rgba(60, 64, 67, 0.15);\n",
              "      fill: #174EA6;\n",
              "    }\n",
              "\n",
              "    .colab-df-buttons div {\n",
              "      margin-bottom: 4px;\n",
              "    }\n",
              "\n",
              "    [theme=dark] .colab-df-convert {\n",
              "      background-color: #3B4455;\n",
              "      fill: #D2E3FC;\n",
              "    }\n",
              "\n",
              "    [theme=dark] .colab-df-convert:hover {\n",
              "      background-color: #434B5C;\n",
              "      box-shadow: 0px 1px 3px 1px rgba(0, 0, 0, 0.15);\n",
              "      filter: drop-shadow(0px 1px 2px rgba(0, 0, 0, 0.3));\n",
              "      fill: #FFFFFF;\n",
              "    }\n",
              "  </style>\n",
              "\n",
              "    <script>\n",
              "      const buttonEl =\n",
              "        document.querySelector('#df-d863e538-1949-4f3a-a949-487149081e19 button.colab-df-convert');\n",
              "      buttonEl.style.display =\n",
              "        google.colab.kernel.accessAllowed ? 'block' : 'none';\n",
              "\n",
              "      async function convertToInteractive(key) {\n",
              "        const element = document.querySelector('#df-d863e538-1949-4f3a-a949-487149081e19');\n",
              "        const dataTable =\n",
              "          await google.colab.kernel.invokeFunction('convertToInteractive',\n",
              "                                                    [key], {});\n",
              "        if (!dataTable) return;\n",
              "\n",
              "        const docLinkHtml = 'Like what you see? Visit the ' +\n",
              "          '<a target=\"_blank\" href=https://colab.research.google.com/notebooks/data_table.ipynb>data table notebook</a>'\n",
              "          + ' to learn more about interactive tables.';\n",
              "        element.innerHTML = '';\n",
              "        dataTable['output_type'] = 'display_data';\n",
              "        await google.colab.output.renderOutput(dataTable, element);\n",
              "        const docLink = document.createElement('div');\n",
              "        docLink.innerHTML = docLinkHtml;\n",
              "        element.appendChild(docLink);\n",
              "      }\n",
              "    </script>\n",
              "  </div>\n",
              "\n",
              "\n",
              "<div id=\"df-ea4e0e9f-cec9-449c-8f53-98b17594fc27\">\n",
              "  <button class=\"colab-df-quickchart\" onclick=\"quickchart('df-ea4e0e9f-cec9-449c-8f53-98b17594fc27')\"\n",
              "            title=\"Suggest charts\"\n",
              "            style=\"display:none;\">\n",
              "\n",
              "<svg xmlns=\"http://www.w3.org/2000/svg\" height=\"24px\"viewBox=\"0 0 24 24\"\n",
              "     width=\"24px\">\n",
              "    <g>\n",
              "        <path d=\"M19 3H5c-1.1 0-2 .9-2 2v14c0 1.1.9 2 2 2h14c1.1 0 2-.9 2-2V5c0-1.1-.9-2-2-2zM9 17H7v-7h2v7zm4 0h-2V7h2v10zm4 0h-2v-4h2v4z\"/>\n",
              "    </g>\n",
              "</svg>\n",
              "  </button>\n",
              "\n",
              "<style>\n",
              "  .colab-df-quickchart {\n",
              "      --bg-color: #E8F0FE;\n",
              "      --fill-color: #1967D2;\n",
              "      --hover-bg-color: #E2EBFA;\n",
              "      --hover-fill-color: #174EA6;\n",
              "      --disabled-fill-color: #AAA;\n",
              "      --disabled-bg-color: #DDD;\n",
              "  }\n",
              "\n",
              "  [theme=dark] .colab-df-quickchart {\n",
              "      --bg-color: #3B4455;\n",
              "      --fill-color: #D2E3FC;\n",
              "      --hover-bg-color: #434B5C;\n",
              "      --hover-fill-color: #FFFFFF;\n",
              "      --disabled-bg-color: #3B4455;\n",
              "      --disabled-fill-color: #666;\n",
              "  }\n",
              "\n",
              "  .colab-df-quickchart {\n",
              "    background-color: var(--bg-color);\n",
              "    border: none;\n",
              "    border-radius: 50%;\n",
              "    cursor: pointer;\n",
              "    display: none;\n",
              "    fill: var(--fill-color);\n",
              "    height: 32px;\n",
              "    padding: 0;\n",
              "    width: 32px;\n",
              "  }\n",
              "\n",
              "  .colab-df-quickchart:hover {\n",
              "    background-color: var(--hover-bg-color);\n",
              "    box-shadow: 0 1px 2px rgba(60, 64, 67, 0.3), 0 1px 3px 1px rgba(60, 64, 67, 0.15);\n",
              "    fill: var(--button-hover-fill-color);\n",
              "  }\n",
              "\n",
              "  .colab-df-quickchart-complete:disabled,\n",
              "  .colab-df-quickchart-complete:disabled:hover {\n",
              "    background-color: var(--disabled-bg-color);\n",
              "    fill: var(--disabled-fill-color);\n",
              "    box-shadow: none;\n",
              "  }\n",
              "\n",
              "  .colab-df-spinner {\n",
              "    border: 2px solid var(--fill-color);\n",
              "    border-color: transparent;\n",
              "    border-bottom-color: var(--fill-color);\n",
              "    animation:\n",
              "      spin 1s steps(1) infinite;\n",
              "  }\n",
              "\n",
              "  @keyframes spin {\n",
              "    0% {\n",
              "      border-color: transparent;\n",
              "      border-bottom-color: var(--fill-color);\n",
              "      border-left-color: var(--fill-color);\n",
              "    }\n",
              "    20% {\n",
              "      border-color: transparent;\n",
              "      border-left-color: var(--fill-color);\n",
              "      border-top-color: var(--fill-color);\n",
              "    }\n",
              "    30% {\n",
              "      border-color: transparent;\n",
              "      border-left-color: var(--fill-color);\n",
              "      border-top-color: var(--fill-color);\n",
              "      border-right-color: var(--fill-color);\n",
              "    }\n",
              "    40% {\n",
              "      border-color: transparent;\n",
              "      border-right-color: var(--fill-color);\n",
              "      border-top-color: var(--fill-color);\n",
              "    }\n",
              "    60% {\n",
              "      border-color: transparent;\n",
              "      border-right-color: var(--fill-color);\n",
              "    }\n",
              "    80% {\n",
              "      border-color: transparent;\n",
              "      border-right-color: var(--fill-color);\n",
              "      border-bottom-color: var(--fill-color);\n",
              "    }\n",
              "    90% {\n",
              "      border-color: transparent;\n",
              "      border-bottom-color: var(--fill-color);\n",
              "    }\n",
              "  }\n",
              "</style>\n",
              "\n",
              "  <script>\n",
              "    async function quickchart(key) {\n",
              "      const quickchartButtonEl =\n",
              "        document.querySelector('#' + key + ' button');\n",
              "      quickchartButtonEl.disabled = true;  // To prevent multiple clicks.\n",
              "      quickchartButtonEl.classList.add('colab-df-spinner');\n",
              "      try {\n",
              "        const charts = await google.colab.kernel.invokeFunction(\n",
              "            'suggestCharts', [key], {});\n",
              "      } catch (error) {\n",
              "        console.error('Error during call to suggestCharts:', error);\n",
              "      }\n",
              "      quickchartButtonEl.classList.remove('colab-df-spinner');\n",
              "      quickchartButtonEl.classList.add('colab-df-quickchart-complete');\n",
              "    }\n",
              "    (() => {\n",
              "      let quickchartButtonEl =\n",
              "        document.querySelector('#df-ea4e0e9f-cec9-449c-8f53-98b17594fc27 button');\n",
              "      quickchartButtonEl.style.display =\n",
              "        google.colab.kernel.accessAllowed ? 'block' : 'none';\n",
              "    })();\n",
              "  </script>\n",
              "</div>\n",
              "\n",
              "    </div>\n",
              "  </div>\n"
            ],
            "application/vnd.google.colaboratory.intrinsic+json": {
              "type": "dataframe",
              "summary": "{\n  \"name\": \"df\",\n  \"rows\": 8,\n  \"fields\": [\n    {\n      \"column\": \"ph\",\n      \"properties\": {\n        \"dtype\": \"number\",\n        \"std\": 982.4396919342113,\n        \"min\": 0.0,\n        \"max\": 2785.0,\n        \"num_unique_values\": 8,\n        \"samples\": [\n          7.080794504276835,\n          7.036752103833548,\n          2785.0\n        ],\n        \"semantic_type\": \"\",\n        \"description\": \"\"\n      }\n    },\n    {\n      \"column\": \"Hardness\",\n      \"properties\": {\n        \"dtype\": \"number\",\n        \"std\": 1102.077573149784,\n        \"min\": 32.879761476294185,\n        \"max\": 3276.0,\n        \"num_unique_values\": 8,\n        \"samples\": [\n          196.36949601730151,\n          196.96762686363076,\n          3276.0\n        ],\n        \"semantic_type\": \"\",\n        \"description\": \"\"\n      }\n    },\n    {\n      \"column\": \"Solids\",\n      \"properties\": {\n        \"dtype\": \"number\",\n        \"std\": 19161.79774847418,\n        \"min\": 320.942611274359,\n        \"max\": 61227.19600771213,\n        \"num_unique_values\": 8,\n        \"samples\": [\n          22014.092526077104,\n          20927.833606520187,\n          3276.0\n        ],\n        \"semantic_type\": \"\",\n        \"description\": \"\"\n      }\n    },\n    {\n      \"column\": \"Chloramines\",\n      \"properties\": {\n        \"dtype\": \"number\",\n        \"std\": 1156.0476760135623,\n        \"min\": 0.3520000000000003,\n        \"max\": 3276.0,\n        \"num_unique_values\": 8,\n        \"samples\": [\n          7.122276793425786,\n          7.130298973883081,\n          3276.0\n        ],\n        \"semantic_type\": \"\",\n        \"description\": \"\"\n      }\n    },\n    {\n      \"column\": \"Sulfate\",\n      \"properties\": {\n        \"dtype\": \"number\",\n        \"std\": 793.8602821876343,\n        \"min\": 41.416840461672685,\n        \"max\": 2495.0,\n        \"num_unique_values\": 8,\n        \"samples\": [\n          333.7757766108135,\n          333.073545745888,\n          2495.0\n        ],\n        \"semantic_type\": \"\",\n        \"description\": \"\"\n      }\n    },\n    {\n      \"column\": \"Conductivity\",\n      \"properties\": {\n        \"dtype\": \"number\",\n        \"std\": 1040.8631085884185,\n        \"min\": 80.82406405111182,\n        \"max\": 3276.0,\n        \"num_unique_values\": 8,\n        \"samples\": [\n          426.20511068255325,\n          421.8849682800544,\n          3276.0\n        ],\n        \"semantic_type\": \"\",\n        \"description\": \"\"\n      }\n    },\n    {\n      \"column\": \"Organic_carbon\",\n      \"properties\": {\n        \"dtype\": \"number\",\n        \"std\": 1153.6765632294614,\n        \"min\": 2.1999999999999886,\n        \"max\": 3276.0,\n        \"num_unique_values\": 8,\n        \"samples\": [\n          14.284970247677318,\n          14.218337937208588,\n          3276.0\n        ],\n        \"semantic_type\": \"\",\n        \"description\": \"\"\n      }\n    },\n    {\n      \"column\": \"Trihalomethanes\",\n      \"properties\": {\n        \"dtype\": \"number\",\n        \"std\": 1081.0577228535572,\n        \"min\": 0.7379999999999995,\n        \"max\": 3114.0,\n        \"num_unique_values\": 8,\n        \"samples\": [\n          66.39629294676803,\n          66.62248509808484,\n          3114.0\n        ],\n        \"semantic_type\": \"\",\n        \"description\": \"\"\n      }\n    },\n    {\n      \"column\": \"Turbidity\",\n      \"properties\": {\n        \"dtype\": \"number\",\n        \"std\": 1156.9881922638967,\n        \"min\": 0.7803824084854116,\n        \"max\": 3276.0,\n        \"num_unique_values\": 8,\n        \"samples\": [\n          3.966786169791058,\n          3.955027562993039,\n          3276.0\n        ],\n        \"semantic_type\": \"\",\n        \"description\": \"\"\n      }\n    },\n    {\n      \"column\": \"Potability\",\n      \"properties\": {\n        \"dtype\": \"number\",\n        \"std\": 1158.0956231418108,\n        \"min\": 0.0,\n        \"max\": 3276.0,\n        \"num_unique_values\": 5,\n        \"samples\": [\n          0.3901098901098901,\n          1.0,\n          0.4878491696702489\n        ],\n        \"semantic_type\": \"\",\n        \"description\": \"\"\n      }\n    }\n  ]\n}"
            }
          },
          "metadata": {},
          "execution_count": 36
        }
      ]
    },
    {
      "cell_type": "code",
      "source": [
        "# check missing values\n",
        "df.isnull().sum()"
      ],
      "metadata": {
        "colab": {
          "base_uri": "https://localhost:8080/",
          "height": 398
        },
        "id": "wy-MtkQUWUix",
        "outputId": "49643318-be8c-465d-f366-f7420fe76806"
      },
      "execution_count": null,
      "outputs": [
        {
          "output_type": "execute_result",
          "data": {
            "text/plain": [
              "ph                 491\n",
              "Hardness             0\n",
              "Solids               0\n",
              "Chloramines          0\n",
              "Sulfate            781\n",
              "Conductivity         0\n",
              "Organic_carbon       0\n",
              "Trihalomethanes    162\n",
              "Turbidity            0\n",
              "Potability           0\n",
              "dtype: int64"
            ],
            "text/html": [
              "<div>\n",
              "<style scoped>\n",
              "    .dataframe tbody tr th:only-of-type {\n",
              "        vertical-align: middle;\n",
              "    }\n",
              "\n",
              "    .dataframe tbody tr th {\n",
              "        vertical-align: top;\n",
              "    }\n",
              "\n",
              "    .dataframe thead th {\n",
              "        text-align: right;\n",
              "    }\n",
              "</style>\n",
              "<table border=\"1\" class=\"dataframe\">\n",
              "  <thead>\n",
              "    <tr style=\"text-align: right;\">\n",
              "      <th></th>\n",
              "      <th>0</th>\n",
              "    </tr>\n",
              "  </thead>\n",
              "  <tbody>\n",
              "    <tr>\n",
              "      <th>ph</th>\n",
              "      <td>491</td>\n",
              "    </tr>\n",
              "    <tr>\n",
              "      <th>Hardness</th>\n",
              "      <td>0</td>\n",
              "    </tr>\n",
              "    <tr>\n",
              "      <th>Solids</th>\n",
              "      <td>0</td>\n",
              "    </tr>\n",
              "    <tr>\n",
              "      <th>Chloramines</th>\n",
              "      <td>0</td>\n",
              "    </tr>\n",
              "    <tr>\n",
              "      <th>Sulfate</th>\n",
              "      <td>781</td>\n",
              "    </tr>\n",
              "    <tr>\n",
              "      <th>Conductivity</th>\n",
              "      <td>0</td>\n",
              "    </tr>\n",
              "    <tr>\n",
              "      <th>Organic_carbon</th>\n",
              "      <td>0</td>\n",
              "    </tr>\n",
              "    <tr>\n",
              "      <th>Trihalomethanes</th>\n",
              "      <td>162</td>\n",
              "    </tr>\n",
              "    <tr>\n",
              "      <th>Turbidity</th>\n",
              "      <td>0</td>\n",
              "    </tr>\n",
              "    <tr>\n",
              "      <th>Potability</th>\n",
              "      <td>0</td>\n",
              "    </tr>\n",
              "  </tbody>\n",
              "</table>\n",
              "</div><br><label><b>dtype:</b> int64</label>"
            ]
          },
          "metadata": {},
          "execution_count": 37
        }
      ]
    },
    {
      "cell_type": "code",
      "source": [
        "# imput missing values with\n",
        "df.fillna(df.median(), inplace=True)"
      ],
      "metadata": {
        "id": "PjtmYGL6aie4"
      },
      "execution_count": null,
      "outputs": []
    },
    {
      "cell_type": "code",
      "source": [
        "df.isnull().sum()"
      ],
      "metadata": {
        "colab": {
          "base_uri": "https://localhost:8080/",
          "height": 398
        },
        "id": "aPOhvJqhhLBi",
        "outputId": "3227dc62-e6d3-43a2-d8ff-f5e8ab27b59f"
      },
      "execution_count": null,
      "outputs": [
        {
          "output_type": "execute_result",
          "data": {
            "text/plain": [
              "ph                 0\n",
              "Hardness           0\n",
              "Solids             0\n",
              "Chloramines        0\n",
              "Sulfate            0\n",
              "Conductivity       0\n",
              "Organic_carbon     0\n",
              "Trihalomethanes    0\n",
              "Turbidity          0\n",
              "Potability         0\n",
              "dtype: int64"
            ],
            "text/html": [
              "<div>\n",
              "<style scoped>\n",
              "    .dataframe tbody tr th:only-of-type {\n",
              "        vertical-align: middle;\n",
              "    }\n",
              "\n",
              "    .dataframe tbody tr th {\n",
              "        vertical-align: top;\n",
              "    }\n",
              "\n",
              "    .dataframe thead th {\n",
              "        text-align: right;\n",
              "    }\n",
              "</style>\n",
              "<table border=\"1\" class=\"dataframe\">\n",
              "  <thead>\n",
              "    <tr style=\"text-align: right;\">\n",
              "      <th></th>\n",
              "      <th>0</th>\n",
              "    </tr>\n",
              "  </thead>\n",
              "  <tbody>\n",
              "    <tr>\n",
              "      <th>ph</th>\n",
              "      <td>0</td>\n",
              "    </tr>\n",
              "    <tr>\n",
              "      <th>Hardness</th>\n",
              "      <td>0</td>\n",
              "    </tr>\n",
              "    <tr>\n",
              "      <th>Solids</th>\n",
              "      <td>0</td>\n",
              "    </tr>\n",
              "    <tr>\n",
              "      <th>Chloramines</th>\n",
              "      <td>0</td>\n",
              "    </tr>\n",
              "    <tr>\n",
              "      <th>Sulfate</th>\n",
              "      <td>0</td>\n",
              "    </tr>\n",
              "    <tr>\n",
              "      <th>Conductivity</th>\n",
              "      <td>0</td>\n",
              "    </tr>\n",
              "    <tr>\n",
              "      <th>Organic_carbon</th>\n",
              "      <td>0</td>\n",
              "    </tr>\n",
              "    <tr>\n",
              "      <th>Trihalomethanes</th>\n",
              "      <td>0</td>\n",
              "    </tr>\n",
              "    <tr>\n",
              "      <th>Turbidity</th>\n",
              "      <td>0</td>\n",
              "    </tr>\n",
              "    <tr>\n",
              "      <th>Potability</th>\n",
              "      <td>0</td>\n",
              "    </tr>\n",
              "  </tbody>\n",
              "</table>\n",
              "</div><br><label><b>dtype:</b> int64</label>"
            ]
          },
          "metadata": {},
          "execution_count": 39
        }
      ]
    },
    {
      "cell_type": "code",
      "source": [
        "df"
      ],
      "metadata": {
        "colab": {
          "base_uri": "https://localhost:8080/",
          "height": 444
        },
        "id": "hQuCp_OkiLdF",
        "outputId": "3293d6d1-9469-4093-d6e2-c1f29d65c2ad"
      },
      "execution_count": null,
      "outputs": [
        {
          "output_type": "execute_result",
          "data": {
            "text/plain": [
              "            ph    Hardness        Solids  Chloramines     Sulfate  \\\n",
              "0     7.036752  204.890455  20791.318981     7.300212  368.516441   \n",
              "1     3.716080  129.422921  18630.057858     6.635246  333.073546   \n",
              "2     8.099124  224.236259  19909.541732     9.275884  333.073546   \n",
              "3     8.316766  214.373394  22018.417441     8.059332  356.886136   \n",
              "4     9.092223  181.101509  17978.986339     6.546600  310.135738   \n",
              "...        ...         ...           ...          ...         ...   \n",
              "3271  4.668102  193.681735  47580.991603     7.166639  359.948574   \n",
              "3272  7.808856  193.553212  17329.802160     8.061362  333.073546   \n",
              "3273  9.419510  175.762646  33155.578218     7.350233  333.073546   \n",
              "3274  5.126763  230.603758  11983.869376     6.303357  333.073546   \n",
              "3275  7.874671  195.102299  17404.177061     7.509306  333.073546   \n",
              "\n",
              "      Conductivity  Organic_carbon  Trihalomethanes  Turbidity  Potability  \n",
              "0       564.308654       10.379783        86.990970   2.963135           0  \n",
              "1       592.885359       15.180013        56.329076   4.500656           0  \n",
              "2       418.606213       16.868637        66.420093   3.055934           0  \n",
              "3       363.266516       18.436524       100.341674   4.628771           0  \n",
              "4       398.410813       11.558279        31.997993   4.075075           0  \n",
              "...            ...             ...              ...        ...         ...  \n",
              "3271    526.424171       13.894419        66.687695   4.435821           1  \n",
              "3272    392.449580       19.903225        66.622485   2.798243           1  \n",
              "3273    432.044783       11.039070        69.845400   3.298875           1  \n",
              "3274    402.883113       11.168946        77.488213   4.708658           1  \n",
              "3275    327.459760       16.140368        78.698446   2.309149           1  \n",
              "\n",
              "[3276 rows x 10 columns]"
            ],
            "text/html": [
              "\n",
              "  <div id=\"df-809b2c05-c07b-40c0-af79-604986ddf915\" class=\"colab-df-container\">\n",
              "    <div>\n",
              "<style scoped>\n",
              "    .dataframe tbody tr th:only-of-type {\n",
              "        vertical-align: middle;\n",
              "    }\n",
              "\n",
              "    .dataframe tbody tr th {\n",
              "        vertical-align: top;\n",
              "    }\n",
              "\n",
              "    .dataframe thead th {\n",
              "        text-align: right;\n",
              "    }\n",
              "</style>\n",
              "<table border=\"1\" class=\"dataframe\">\n",
              "  <thead>\n",
              "    <tr style=\"text-align: right;\">\n",
              "      <th></th>\n",
              "      <th>ph</th>\n",
              "      <th>Hardness</th>\n",
              "      <th>Solids</th>\n",
              "      <th>Chloramines</th>\n",
              "      <th>Sulfate</th>\n",
              "      <th>Conductivity</th>\n",
              "      <th>Organic_carbon</th>\n",
              "      <th>Trihalomethanes</th>\n",
              "      <th>Turbidity</th>\n",
              "      <th>Potability</th>\n",
              "    </tr>\n",
              "  </thead>\n",
              "  <tbody>\n",
              "    <tr>\n",
              "      <th>0</th>\n",
              "      <td>7.036752</td>\n",
              "      <td>204.890455</td>\n",
              "      <td>20791.318981</td>\n",
              "      <td>7.300212</td>\n",
              "      <td>368.516441</td>\n",
              "      <td>564.308654</td>\n",
              "      <td>10.379783</td>\n",
              "      <td>86.990970</td>\n",
              "      <td>2.963135</td>\n",
              "      <td>0</td>\n",
              "    </tr>\n",
              "    <tr>\n",
              "      <th>1</th>\n",
              "      <td>3.716080</td>\n",
              "      <td>129.422921</td>\n",
              "      <td>18630.057858</td>\n",
              "      <td>6.635246</td>\n",
              "      <td>333.073546</td>\n",
              "      <td>592.885359</td>\n",
              "      <td>15.180013</td>\n",
              "      <td>56.329076</td>\n",
              "      <td>4.500656</td>\n",
              "      <td>0</td>\n",
              "    </tr>\n",
              "    <tr>\n",
              "      <th>2</th>\n",
              "      <td>8.099124</td>\n",
              "      <td>224.236259</td>\n",
              "      <td>19909.541732</td>\n",
              "      <td>9.275884</td>\n",
              "      <td>333.073546</td>\n",
              "      <td>418.606213</td>\n",
              "      <td>16.868637</td>\n",
              "      <td>66.420093</td>\n",
              "      <td>3.055934</td>\n",
              "      <td>0</td>\n",
              "    </tr>\n",
              "    <tr>\n",
              "      <th>3</th>\n",
              "      <td>8.316766</td>\n",
              "      <td>214.373394</td>\n",
              "      <td>22018.417441</td>\n",
              "      <td>8.059332</td>\n",
              "      <td>356.886136</td>\n",
              "      <td>363.266516</td>\n",
              "      <td>18.436524</td>\n",
              "      <td>100.341674</td>\n",
              "      <td>4.628771</td>\n",
              "      <td>0</td>\n",
              "    </tr>\n",
              "    <tr>\n",
              "      <th>4</th>\n",
              "      <td>9.092223</td>\n",
              "      <td>181.101509</td>\n",
              "      <td>17978.986339</td>\n",
              "      <td>6.546600</td>\n",
              "      <td>310.135738</td>\n",
              "      <td>398.410813</td>\n",
              "      <td>11.558279</td>\n",
              "      <td>31.997993</td>\n",
              "      <td>4.075075</td>\n",
              "      <td>0</td>\n",
              "    </tr>\n",
              "    <tr>\n",
              "      <th>...</th>\n",
              "      <td>...</td>\n",
              "      <td>...</td>\n",
              "      <td>...</td>\n",
              "      <td>...</td>\n",
              "      <td>...</td>\n",
              "      <td>...</td>\n",
              "      <td>...</td>\n",
              "      <td>...</td>\n",
              "      <td>...</td>\n",
              "      <td>...</td>\n",
              "    </tr>\n",
              "    <tr>\n",
              "      <th>3271</th>\n",
              "      <td>4.668102</td>\n",
              "      <td>193.681735</td>\n",
              "      <td>47580.991603</td>\n",
              "      <td>7.166639</td>\n",
              "      <td>359.948574</td>\n",
              "      <td>526.424171</td>\n",
              "      <td>13.894419</td>\n",
              "      <td>66.687695</td>\n",
              "      <td>4.435821</td>\n",
              "      <td>1</td>\n",
              "    </tr>\n",
              "    <tr>\n",
              "      <th>3272</th>\n",
              "      <td>7.808856</td>\n",
              "      <td>193.553212</td>\n",
              "      <td>17329.802160</td>\n",
              "      <td>8.061362</td>\n",
              "      <td>333.073546</td>\n",
              "      <td>392.449580</td>\n",
              "      <td>19.903225</td>\n",
              "      <td>66.622485</td>\n",
              "      <td>2.798243</td>\n",
              "      <td>1</td>\n",
              "    </tr>\n",
              "    <tr>\n",
              "      <th>3273</th>\n",
              "      <td>9.419510</td>\n",
              "      <td>175.762646</td>\n",
              "      <td>33155.578218</td>\n",
              "      <td>7.350233</td>\n",
              "      <td>333.073546</td>\n",
              "      <td>432.044783</td>\n",
              "      <td>11.039070</td>\n",
              "      <td>69.845400</td>\n",
              "      <td>3.298875</td>\n",
              "      <td>1</td>\n",
              "    </tr>\n",
              "    <tr>\n",
              "      <th>3274</th>\n",
              "      <td>5.126763</td>\n",
              "      <td>230.603758</td>\n",
              "      <td>11983.869376</td>\n",
              "      <td>6.303357</td>\n",
              "      <td>333.073546</td>\n",
              "      <td>402.883113</td>\n",
              "      <td>11.168946</td>\n",
              "      <td>77.488213</td>\n",
              "      <td>4.708658</td>\n",
              "      <td>1</td>\n",
              "    </tr>\n",
              "    <tr>\n",
              "      <th>3275</th>\n",
              "      <td>7.874671</td>\n",
              "      <td>195.102299</td>\n",
              "      <td>17404.177061</td>\n",
              "      <td>7.509306</td>\n",
              "      <td>333.073546</td>\n",
              "      <td>327.459760</td>\n",
              "      <td>16.140368</td>\n",
              "      <td>78.698446</td>\n",
              "      <td>2.309149</td>\n",
              "      <td>1</td>\n",
              "    </tr>\n",
              "  </tbody>\n",
              "</table>\n",
              "<p>3276 rows × 10 columns</p>\n",
              "</div>\n",
              "    <div class=\"colab-df-buttons\">\n",
              "\n",
              "  <div class=\"colab-df-container\">\n",
              "    <button class=\"colab-df-convert\" onclick=\"convertToInteractive('df-809b2c05-c07b-40c0-af79-604986ddf915')\"\n",
              "            title=\"Convert this dataframe to an interactive table.\"\n",
              "            style=\"display:none;\">\n",
              "\n",
              "  <svg xmlns=\"http://www.w3.org/2000/svg\" height=\"24px\" viewBox=\"0 -960 960 960\">\n",
              "    <path d=\"M120-120v-720h720v720H120Zm60-500h600v-160H180v160Zm220 220h160v-160H400v160Zm0 220h160v-160H400v160ZM180-400h160v-160H180v160Zm440 0h160v-160H620v160ZM180-180h160v-160H180v160Zm440 0h160v-160H620v160Z\"/>\n",
              "  </svg>\n",
              "    </button>\n",
              "\n",
              "  <style>\n",
              "    .colab-df-container {\n",
              "      display:flex;\n",
              "      gap: 12px;\n",
              "    }\n",
              "\n",
              "    .colab-df-convert {\n",
              "      background-color: #E8F0FE;\n",
              "      border: none;\n",
              "      border-radius: 50%;\n",
              "      cursor: pointer;\n",
              "      display: none;\n",
              "      fill: #1967D2;\n",
              "      height: 32px;\n",
              "      padding: 0 0 0 0;\n",
              "      width: 32px;\n",
              "    }\n",
              "\n",
              "    .colab-df-convert:hover {\n",
              "      background-color: #E2EBFA;\n",
              "      box-shadow: 0px 1px 2px rgba(60, 64, 67, 0.3), 0px 1px 3px 1px rgba(60, 64, 67, 0.15);\n",
              "      fill: #174EA6;\n",
              "    }\n",
              "\n",
              "    .colab-df-buttons div {\n",
              "      margin-bottom: 4px;\n",
              "    }\n",
              "\n",
              "    [theme=dark] .colab-df-convert {\n",
              "      background-color: #3B4455;\n",
              "      fill: #D2E3FC;\n",
              "    }\n",
              "\n",
              "    [theme=dark] .colab-df-convert:hover {\n",
              "      background-color: #434B5C;\n",
              "      box-shadow: 0px 1px 3px 1px rgba(0, 0, 0, 0.15);\n",
              "      filter: drop-shadow(0px 1px 2px rgba(0, 0, 0, 0.3));\n",
              "      fill: #FFFFFF;\n",
              "    }\n",
              "  </style>\n",
              "\n",
              "    <script>\n",
              "      const buttonEl =\n",
              "        document.querySelector('#df-809b2c05-c07b-40c0-af79-604986ddf915 button.colab-df-convert');\n",
              "      buttonEl.style.display =\n",
              "        google.colab.kernel.accessAllowed ? 'block' : 'none';\n",
              "\n",
              "      async function convertToInteractive(key) {\n",
              "        const element = document.querySelector('#df-809b2c05-c07b-40c0-af79-604986ddf915');\n",
              "        const dataTable =\n",
              "          await google.colab.kernel.invokeFunction('convertToInteractive',\n",
              "                                                    [key], {});\n",
              "        if (!dataTable) return;\n",
              "\n",
              "        const docLinkHtml = 'Like what you see? Visit the ' +\n",
              "          '<a target=\"_blank\" href=https://colab.research.google.com/notebooks/data_table.ipynb>data table notebook</a>'\n",
              "          + ' to learn more about interactive tables.';\n",
              "        element.innerHTML = '';\n",
              "        dataTable['output_type'] = 'display_data';\n",
              "        await google.colab.output.renderOutput(dataTable, element);\n",
              "        const docLink = document.createElement('div');\n",
              "        docLink.innerHTML = docLinkHtml;\n",
              "        element.appendChild(docLink);\n",
              "      }\n",
              "    </script>\n",
              "  </div>\n",
              "\n",
              "\n",
              "<div id=\"df-86de383d-22b4-4ffb-927a-0dbc7b861099\">\n",
              "  <button class=\"colab-df-quickchart\" onclick=\"quickchart('df-86de383d-22b4-4ffb-927a-0dbc7b861099')\"\n",
              "            title=\"Suggest charts\"\n",
              "            style=\"display:none;\">\n",
              "\n",
              "<svg xmlns=\"http://www.w3.org/2000/svg\" height=\"24px\"viewBox=\"0 0 24 24\"\n",
              "     width=\"24px\">\n",
              "    <g>\n",
              "        <path d=\"M19 3H5c-1.1 0-2 .9-2 2v14c0 1.1.9 2 2 2h14c1.1 0 2-.9 2-2V5c0-1.1-.9-2-2-2zM9 17H7v-7h2v7zm4 0h-2V7h2v10zm4 0h-2v-4h2v4z\"/>\n",
              "    </g>\n",
              "</svg>\n",
              "  </button>\n",
              "\n",
              "<style>\n",
              "  .colab-df-quickchart {\n",
              "      --bg-color: #E8F0FE;\n",
              "      --fill-color: #1967D2;\n",
              "      --hover-bg-color: #E2EBFA;\n",
              "      --hover-fill-color: #174EA6;\n",
              "      --disabled-fill-color: #AAA;\n",
              "      --disabled-bg-color: #DDD;\n",
              "  }\n",
              "\n",
              "  [theme=dark] .colab-df-quickchart {\n",
              "      --bg-color: #3B4455;\n",
              "      --fill-color: #D2E3FC;\n",
              "      --hover-bg-color: #434B5C;\n",
              "      --hover-fill-color: #FFFFFF;\n",
              "      --disabled-bg-color: #3B4455;\n",
              "      --disabled-fill-color: #666;\n",
              "  }\n",
              "\n",
              "  .colab-df-quickchart {\n",
              "    background-color: var(--bg-color);\n",
              "    border: none;\n",
              "    border-radius: 50%;\n",
              "    cursor: pointer;\n",
              "    display: none;\n",
              "    fill: var(--fill-color);\n",
              "    height: 32px;\n",
              "    padding: 0;\n",
              "    width: 32px;\n",
              "  }\n",
              "\n",
              "  .colab-df-quickchart:hover {\n",
              "    background-color: var(--hover-bg-color);\n",
              "    box-shadow: 0 1px 2px rgba(60, 64, 67, 0.3), 0 1px 3px 1px rgba(60, 64, 67, 0.15);\n",
              "    fill: var(--button-hover-fill-color);\n",
              "  }\n",
              "\n",
              "  .colab-df-quickchart-complete:disabled,\n",
              "  .colab-df-quickchart-complete:disabled:hover {\n",
              "    background-color: var(--disabled-bg-color);\n",
              "    fill: var(--disabled-fill-color);\n",
              "    box-shadow: none;\n",
              "  }\n",
              "\n",
              "  .colab-df-spinner {\n",
              "    border: 2px solid var(--fill-color);\n",
              "    border-color: transparent;\n",
              "    border-bottom-color: var(--fill-color);\n",
              "    animation:\n",
              "      spin 1s steps(1) infinite;\n",
              "  }\n",
              "\n",
              "  @keyframes spin {\n",
              "    0% {\n",
              "      border-color: transparent;\n",
              "      border-bottom-color: var(--fill-color);\n",
              "      border-left-color: var(--fill-color);\n",
              "    }\n",
              "    20% {\n",
              "      border-color: transparent;\n",
              "      border-left-color: var(--fill-color);\n",
              "      border-top-color: var(--fill-color);\n",
              "    }\n",
              "    30% {\n",
              "      border-color: transparent;\n",
              "      border-left-color: var(--fill-color);\n",
              "      border-top-color: var(--fill-color);\n",
              "      border-right-color: var(--fill-color);\n",
              "    }\n",
              "    40% {\n",
              "      border-color: transparent;\n",
              "      border-right-color: var(--fill-color);\n",
              "      border-top-color: var(--fill-color);\n",
              "    }\n",
              "    60% {\n",
              "      border-color: transparent;\n",
              "      border-right-color: var(--fill-color);\n",
              "    }\n",
              "    80% {\n",
              "      border-color: transparent;\n",
              "      border-right-color: var(--fill-color);\n",
              "      border-bottom-color: var(--fill-color);\n",
              "    }\n",
              "    90% {\n",
              "      border-color: transparent;\n",
              "      border-bottom-color: var(--fill-color);\n",
              "    }\n",
              "  }\n",
              "</style>\n",
              "\n",
              "  <script>\n",
              "    async function quickchart(key) {\n",
              "      const quickchartButtonEl =\n",
              "        document.querySelector('#' + key + ' button');\n",
              "      quickchartButtonEl.disabled = true;  // To prevent multiple clicks.\n",
              "      quickchartButtonEl.classList.add('colab-df-spinner');\n",
              "      try {\n",
              "        const charts = await google.colab.kernel.invokeFunction(\n",
              "            'suggestCharts', [key], {});\n",
              "      } catch (error) {\n",
              "        console.error('Error during call to suggestCharts:', error);\n",
              "      }\n",
              "      quickchartButtonEl.classList.remove('colab-df-spinner');\n",
              "      quickchartButtonEl.classList.add('colab-df-quickchart-complete');\n",
              "    }\n",
              "    (() => {\n",
              "      let quickchartButtonEl =\n",
              "        document.querySelector('#df-86de383d-22b4-4ffb-927a-0dbc7b861099 button');\n",
              "      quickchartButtonEl.style.display =\n",
              "        google.colab.kernel.accessAllowed ? 'block' : 'none';\n",
              "    })();\n",
              "  </script>\n",
              "</div>\n",
              "\n",
              "  <div id=\"id_620bcb46-6a78-48fd-ba4f-25cce96e29ee\">\n",
              "    <style>\n",
              "      .colab-df-generate {\n",
              "        background-color: #E8F0FE;\n",
              "        border: none;\n",
              "        border-radius: 50%;\n",
              "        cursor: pointer;\n",
              "        display: none;\n",
              "        fill: #1967D2;\n",
              "        height: 32px;\n",
              "        padding: 0 0 0 0;\n",
              "        width: 32px;\n",
              "      }\n",
              "\n",
              "      .colab-df-generate:hover {\n",
              "        background-color: #E2EBFA;\n",
              "        box-shadow: 0px 1px 2px rgba(60, 64, 67, 0.3), 0px 1px 3px 1px rgba(60, 64, 67, 0.15);\n",
              "        fill: #174EA6;\n",
              "      }\n",
              "\n",
              "      [theme=dark] .colab-df-generate {\n",
              "        background-color: #3B4455;\n",
              "        fill: #D2E3FC;\n",
              "      }\n",
              "\n",
              "      [theme=dark] .colab-df-generate:hover {\n",
              "        background-color: #434B5C;\n",
              "        box-shadow: 0px 1px 3px 1px rgba(0, 0, 0, 0.15);\n",
              "        filter: drop-shadow(0px 1px 2px rgba(0, 0, 0, 0.3));\n",
              "        fill: #FFFFFF;\n",
              "      }\n",
              "    </style>\n",
              "    <button class=\"colab-df-generate\" onclick=\"generateWithVariable('df')\"\n",
              "            title=\"Generate code using this dataframe.\"\n",
              "            style=\"display:none;\">\n",
              "\n",
              "  <svg xmlns=\"http://www.w3.org/2000/svg\" height=\"24px\"viewBox=\"0 0 24 24\"\n",
              "       width=\"24px\">\n",
              "    <path d=\"M7,19H8.4L18.45,9,17,7.55,7,17.6ZM5,21V16.75L18.45,3.32a2,2,0,0,1,2.83,0l1.4,1.43a1.91,1.91,0,0,1,.58,1.4,1.91,1.91,0,0,1-.58,1.4L9.25,21ZM18.45,9,17,7.55Zm-12,3A5.31,5.31,0,0,0,4.9,8.1,5.31,5.31,0,0,0,1,6.5,5.31,5.31,0,0,0,4.9,4.9,5.31,5.31,0,0,0,6.5,1,5.31,5.31,0,0,0,8.1,4.9,5.31,5.31,0,0,0,12,6.5,5.46,5.46,0,0,0,6.5,12Z\"/>\n",
              "  </svg>\n",
              "    </button>\n",
              "    <script>\n",
              "      (() => {\n",
              "      const buttonEl =\n",
              "        document.querySelector('#id_620bcb46-6a78-48fd-ba4f-25cce96e29ee button.colab-df-generate');\n",
              "      buttonEl.style.display =\n",
              "        google.colab.kernel.accessAllowed ? 'block' : 'none';\n",
              "\n",
              "      buttonEl.onclick = () => {\n",
              "        google.colab.notebook.generateWithVariable('df');\n",
              "      }\n",
              "      })();\n",
              "    </script>\n",
              "  </div>\n",
              "\n",
              "    </div>\n",
              "  </div>\n"
            ],
            "application/vnd.google.colaboratory.intrinsic+json": {
              "type": "dataframe",
              "variable_name": "df",
              "summary": "{\n  \"name\": \"df\",\n  \"rows\": 3276,\n  \"fields\": [\n    {\n      \"column\": \"ph\",\n      \"properties\": {\n        \"dtype\": \"number\",\n        \"std\": 1.4700400603035841,\n        \"min\": 0.0,\n        \"max\": 13.999999999999998,\n        \"num_unique_values\": 2785,\n        \"samples\": [\n          6.569053876389385,\n          9.271355446767778,\n          7.367371852627868\n        ],\n        \"semantic_type\": \"\",\n        \"description\": \"\"\n      }\n    },\n    {\n      \"column\": \"Hardness\",\n      \"properties\": {\n        \"dtype\": \"number\",\n        \"std\": 32.879761476294185,\n        \"min\": 47.432,\n        \"max\": 323.124,\n        \"num_unique_values\": 3276,\n        \"samples\": [\n          183.5211070261417,\n          188.9135411469536,\n          224.05887682392927\n        ],\n        \"semantic_type\": \"\",\n        \"description\": \"\"\n      }\n    },\n    {\n      \"column\": \"Solids\",\n      \"properties\": {\n        \"dtype\": \"number\",\n        \"std\": 8768.570827785932,\n        \"min\": 320.942611274359,\n        \"max\": 61227.19600771213,\n        \"num_unique_values\": 3276,\n        \"samples\": [\n          20461.252710219946,\n          32873.820021715685,\n          23264.10996772913\n        ],\n        \"semantic_type\": \"\",\n        \"description\": \"\"\n      }\n    },\n    {\n      \"column\": \"Chloramines\",\n      \"properties\": {\n        \"dtype\": \"number\",\n        \"std\": 1.58308488903971,\n        \"min\": 0.3520000000000003,\n        \"max\": 13.127000000000002,\n        \"num_unique_values\": 3276,\n        \"samples\": [\n          7.333212177578906,\n          6.791509363412849,\n          5.92236704115349\n        ],\n        \"semantic_type\": \"\",\n        \"description\": \"\"\n      }\n    },\n    {\n      \"column\": \"Sulfate\",\n      \"properties\": {\n        \"dtype\": \"number\",\n        \"std\": 36.14385116043702,\n        \"min\": 129.00000000000003,\n        \"max\": 481.0306423059972,\n        \"num_unique_values\": 2495,\n        \"samples\": [\n          321.81403250426115,\n          355.9714951598641,\n          295.83415090035123\n        ],\n        \"semantic_type\": \"\",\n        \"description\": \"\"\n      }\n    },\n    {\n      \"column\": \"Conductivity\",\n      \"properties\": {\n        \"dtype\": \"number\",\n        \"std\": 80.82406405111182,\n        \"min\": 181.483753985146,\n        \"max\": 753.3426195583046,\n        \"num_unique_values\": 3276,\n        \"samples\": [\n          356.3690224100897,\n          336.56150104700754,\n          387.971335796834\n        ],\n        \"semantic_type\": \"\",\n        \"description\": \"\"\n      }\n    },\n    {\n      \"column\": \"Organic_carbon\",\n      \"properties\": {\n        \"dtype\": \"number\",\n        \"std\": 3.308161999126868,\n        \"min\": 2.1999999999999886,\n        \"max\": 28.30000000000001,\n        \"num_unique_values\": 3276,\n        \"samples\": [\n          20.179028868493845,\n          14.706810313722087,\n          13.40673745495127\n        ],\n        \"semantic_type\": \"\",\n        \"description\": \"\"\n      }\n    },\n    {\n      \"column\": \"Trihalomethanes\",\n      \"properties\": {\n        \"dtype\": \"number\",\n        \"std\": 15.769957546275505,\n        \"min\": 0.7379999999999995,\n        \"max\": 124.0,\n        \"num_unique_values\": 3115,\n        \"samples\": [\n          75.33302516708788,\n          73.16477754804393,\n          64.84690478735237\n        ],\n        \"semantic_type\": \"\",\n        \"description\": \"\"\n      }\n    },\n    {\n      \"column\": \"Turbidity\",\n      \"properties\": {\n        \"dtype\": \"number\",\n        \"std\": 0.7803824084854116,\n        \"min\": 1.45,\n        \"max\": 6.739,\n        \"num_unique_values\": 3276,\n        \"samples\": [\n          4.886633785371213,\n          4.562197671215202,\n          2.487968647002356\n        ],\n        \"semantic_type\": \"\",\n        \"description\": \"\"\n      }\n    },\n    {\n      \"column\": \"Potability\",\n      \"properties\": {\n        \"dtype\": \"number\",\n        \"std\": 0,\n        \"min\": 0,\n        \"max\": 1,\n        \"num_unique_values\": 2,\n        \"samples\": [\n          1,\n          0\n        ],\n        \"semantic_type\": \"\",\n        \"description\": \"\"\n      }\n    }\n  ]\n}"
            }
          },
          "metadata": {},
          "execution_count": 40
        }
      ]
    },
    {
      "cell_type": "code",
      "source": [
        "#check columns\n",
        "df.columns"
      ],
      "metadata": {
        "colab": {
          "base_uri": "https://localhost:8080/"
        },
        "id": "aDds7_1auv6_",
        "outputId": "7ecf0f4e-0510-44f1-8dcb-19b812f92fb1"
      },
      "execution_count": null,
      "outputs": [
        {
          "output_type": "execute_result",
          "data": {
            "text/plain": [
              "Index(['ph', 'Hardness', 'Solids', 'Chloramines', 'Sulfate', 'Conductivity',\n",
              "       'Organic_carbon', 'Trihalomethanes', 'Turbidity', 'Potability'],\n",
              "      dtype='object')"
            ]
          },
          "metadata": {},
          "execution_count": 41
        }
      ]
    },
    {
      "cell_type": "code",
      "source": [
        "# Split the dataset into features (X) and target labels (Y).\n",
        "X = df.drop('Potability', axis =1)  # Features\n",
        "Y = df['Potability']  # Target (labels)\n",
        "\n"
      ],
      "metadata": {
        "id": "1hADYF0aiXY8"
      },
      "execution_count": null,
      "outputs": []
    },
    {
      "cell_type": "code",
      "source": [
        "# Standardize features using StandardScaler\n",
        "from sklearn.preprocessing import StandardScaler\n",
        "scaler = StandardScaler()\n",
        "X_scaled = scaler.fit_transform(X)"
      ],
      "metadata": {
        "id": "jUIe6tpbwiNc"
      },
      "execution_count": null,
      "outputs": []
    },
    {
      "cell_type": "code",
      "source": [
        "# Convert back to DataFrame for better visualization (optional)\n",
        "X_scaled_df = pd.DataFrame(X_scaled, columns=X.columns)\n",
        "\n",
        "# Display first few rows of scaled data\n",
        "print(X_scaled_df.head())"
      ],
      "metadata": {
        "colab": {
          "base_uri": "https://localhost:8080/"
        },
        "id": "jxafv-Otw0ZC",
        "outputId": "4d86ec90-9552-42ed-8778-8c93ad8d7ff8"
      },
      "execution_count": null,
      "outputs": [
        {
          "output_type": "stream",
          "name": "stdout",
          "text": [
            "         ph  Hardness    Solids  Chloramines   Sulfate  Conductivity  \\\n",
            "0 -0.025474  0.259195 -0.139471     0.112415  0.965957      1.708954   \n",
            "1 -2.284717 -2.036414 -0.385987    -0.307694 -0.014799      2.062575   \n",
            "2  0.697319  0.847665 -0.240047     1.360594 -0.014799     -0.094032   \n",
            "3  0.845393  0.547651  0.000493     0.592008  0.644130     -0.778830   \n",
            "4  1.372982 -0.464429 -0.460249    -0.363698 -0.649522     -0.343939   \n",
            "\n",
            "   Organic_carbon  Trihalomethanes  Turbidity  \n",
            "0       -1.180651         1.305434  -1.286298  \n",
            "1        0.270597        -0.639186   0.684218  \n",
            "2        0.781117         0.000800  -1.167365  \n",
            "3        1.255134         2.152154   0.848412  \n",
            "4       -0.824357        -2.182297   0.138786  \n"
          ]
        }
      ]
    },
    {
      "cell_type": "code",
      "source": [
        "# Split into Train (70%), Validation (15%), and Test (15%) sets\n",
        "from sklearn.model_selection import train_test_split\n",
        "from sklearn.preprocessing import StandardScaler\n",
        "X_train, X_temp, Y_train, Y_temp = train_test_split(X_scaled, Y, test_size=0.30, random_state=42, stratify=Y)\n",
        "X_val, X_test, Y_val, Y_test = train_test_split(X_temp, Y_temp, test_size=0.50, random_state=42, stratify=Y_temp)"
      ],
      "metadata": {
        "id": "r9kZibD-xCwQ"
      },
      "execution_count": null,
      "outputs": []
    },
    {
      "cell_type": "code",
      "source": [
        "\n",
        "# Print dataset sizes\n",
        "print(\"Training set size:\", X_train.shape)\n",
        "print(\"Validation set size:\", X_val.shape)\n",
        "print(\"Testing set size:\", X_test.shape)"
      ],
      "metadata": {
        "colab": {
          "base_uri": "https://localhost:8080/"
        },
        "id": "R8U9ibD1xXFa",
        "outputId": "8716f8b4-0456-425c-a0a7-bac44e336409"
      },
      "execution_count": null,
      "outputs": [
        {
          "output_type": "stream",
          "name": "stdout",
          "text": [
            "Training set size: (2293, 9)\n",
            "Validation set size: (491, 9)\n",
            "Testing set size: (492, 9)\n"
          ]
        }
      ]
    },
    {
      "cell_type": "markdown",
      "source": [
        "# Model Architecture:"
      ],
      "metadata": {
        "id": "hQmadW_O1Nyd"
      }
    },
    {
      "cell_type": "code",
      "source": [
        "from tensorflow.keras.models import Sequential\n",
        "from tensorflow.keras.layers import Dense\n",
        "from tensorflow.keras.optimizers import Adam\n",
        "from tensorflow.keras.regularizers import l2\n",
        "\n",
        "# Define the model with L2 regularization\n",
        "model = Sequential([\n",
        "    Dense(64, activation='relu', input_shape=(X_train.shape[1],), kernel_regularizer=l2(0.01)),  # L2 regularization\n",
        "    Dense(32, activation='relu', kernel_regularizer=l2(0.01)),  # L2 regularization\n",
        "    Dense(1, activation='sigmoid')  # Output layer for binary classification\n",
        "])"
      ],
      "metadata": {
        "colab": {
          "base_uri": "https://localhost:8080/"
        },
        "id": "GThAnyKDwK8P",
        "outputId": "3f75046e-0a5a-4cbe-ef1d-ef9b5b326606"
      },
      "execution_count": null,
      "outputs": [
        {
          "output_type": "stream",
          "name": "stderr",
          "text": [
            "/usr/local/lib/python3.11/dist-packages/keras/src/layers/core/dense.py:87: UserWarning: Do not pass an `input_shape`/`input_dim` argument to a layer. When using Sequential models, prefer using an `Input(shape)` object as the first layer in the model instead.\n",
            "  super().__init__(activity_regularizer=activity_regularizer, **kwargs)\n"
          ]
        }
      ]
    },
    {
      "cell_type": "code",
      "source": [
        "# Compile the model with Adam optimizer\n",
        "from tensorflow.keras.optimizers import Adam\n",
        "from tensorflow.keras.metrics import Precision, Recall\n",
        "model.compile(optimizer=Adam(learning_rate=0.001),  # Adam with learning rate 0.001\n",
        "              loss='binary_crossentropy',  # Use 'categorical_crossentropy' for multi-class\n",
        "              metrics=['accuracy', Precision(), Recall()])\n"
      ],
      "metadata": {
        "id": "-a1dMGqJwm3b"
      },
      "execution_count": null,
      "outputs": []
    },
    {
      "cell_type": "code",
      "source": [
        "early_stopping = keras.callbacks.EarlyStopping(\n",
        "    monitor='val_loss',\n",
        "    patience=5,  # Stop if validation loss doesn't improve for 5 epochs\n",
        "   restore_best_weights=True\n",
        ")\n"
      ],
      "metadata": {
        "id": "T7K4l2uC3Esm"
      },
      "execution_count": null,
      "outputs": []
    },
    {
      "cell_type": "code",
      "source": [
        "model.summary()"
      ],
      "metadata": {
        "colab": {
          "base_uri": "https://localhost:8080/",
          "height": 238
        },
        "id": "6Eq6pGHSlTTq",
        "outputId": "c1ad6867-9c19-486e-d420-b40658a75c40"
      },
      "execution_count": null,
      "outputs": [
        {
          "output_type": "display_data",
          "data": {
            "text/plain": [
              "\u001b[1mModel: \"sequential_1\"\u001b[0m\n"
            ],
            "text/html": [
              "<pre style=\"white-space:pre;overflow-x:auto;line-height:normal;font-family:Menlo,'DejaVu Sans Mono',consolas,'Courier New',monospace\"><span style=\"font-weight: bold\">Model: \"sequential_1\"</span>\n",
              "</pre>\n"
            ]
          },
          "metadata": {}
        },
        {
          "output_type": "display_data",
          "data": {
            "text/plain": [
              "┏━━━━━━━━━━━━━━━━━━━━━━━━━━━━━━━━━━━━━━┳━━━━━━━━━━━━━━━━━━━━━━━━━━━━━┳━━━━━━━━━━━━━━━━━┓\n",
              "┃\u001b[1m \u001b[0m\u001b[1mLayer (type)                        \u001b[0m\u001b[1m \u001b[0m┃\u001b[1m \u001b[0m\u001b[1mOutput Shape               \u001b[0m\u001b[1m \u001b[0m┃\u001b[1m \u001b[0m\u001b[1m        Param #\u001b[0m\u001b[1m \u001b[0m┃\n",
              "┡━━━━━━━━━━━━━━━━━━━━━━━━━━━━━━━━━━━━━━╇━━━━━━━━━━━━━━━━━━━━━━━━━━━━━╇━━━━━━━━━━━━━━━━━┩\n",
              "│ dense_3 (\u001b[38;5;33mDense\u001b[0m)                      │ (\u001b[38;5;45mNone\u001b[0m, \u001b[38;5;34m64\u001b[0m)                  │             \u001b[38;5;34m640\u001b[0m │\n",
              "├──────────────────────────────────────┼─────────────────────────────┼─────────────────┤\n",
              "│ dense_4 (\u001b[38;5;33mDense\u001b[0m)                      │ (\u001b[38;5;45mNone\u001b[0m, \u001b[38;5;34m32\u001b[0m)                  │           \u001b[38;5;34m2,080\u001b[0m │\n",
              "├──────────────────────────────────────┼─────────────────────────────┼─────────────────┤\n",
              "│ dense_5 (\u001b[38;5;33mDense\u001b[0m)                      │ (\u001b[38;5;45mNone\u001b[0m, \u001b[38;5;34m1\u001b[0m)                   │              \u001b[38;5;34m33\u001b[0m │\n",
              "└──────────────────────────────────────┴─────────────────────────────┴─────────────────┘\n"
            ],
            "text/html": [
              "<pre style=\"white-space:pre;overflow-x:auto;line-height:normal;font-family:Menlo,'DejaVu Sans Mono',consolas,'Courier New',monospace\">┏━━━━━━━━━━━━━━━━━━━━━━━━━━━━━━━━━━━━━━┳━━━━━━━━━━━━━━━━━━━━━━━━━━━━━┳━━━━━━━━━━━━━━━━━┓\n",
              "┃<span style=\"font-weight: bold\"> Layer (type)                         </span>┃<span style=\"font-weight: bold\"> Output Shape                </span>┃<span style=\"font-weight: bold\">         Param # </span>┃\n",
              "┡━━━━━━━━━━━━━━━━━━━━━━━━━━━━━━━━━━━━━━╇━━━━━━━━━━━━━━━━━━━━━━━━━━━━━╇━━━━━━━━━━━━━━━━━┩\n",
              "│ dense_3 (<span style=\"color: #0087ff; text-decoration-color: #0087ff\">Dense</span>)                      │ (<span style=\"color: #00d7ff; text-decoration-color: #00d7ff\">None</span>, <span style=\"color: #00af00; text-decoration-color: #00af00\">64</span>)                  │             <span style=\"color: #00af00; text-decoration-color: #00af00\">640</span> │\n",
              "├──────────────────────────────────────┼─────────────────────────────┼─────────────────┤\n",
              "│ dense_4 (<span style=\"color: #0087ff; text-decoration-color: #0087ff\">Dense</span>)                      │ (<span style=\"color: #00d7ff; text-decoration-color: #00d7ff\">None</span>, <span style=\"color: #00af00; text-decoration-color: #00af00\">32</span>)                  │           <span style=\"color: #00af00; text-decoration-color: #00af00\">2,080</span> │\n",
              "├──────────────────────────────────────┼─────────────────────────────┼─────────────────┤\n",
              "│ dense_5 (<span style=\"color: #0087ff; text-decoration-color: #0087ff\">Dense</span>)                      │ (<span style=\"color: #00d7ff; text-decoration-color: #00d7ff\">None</span>, <span style=\"color: #00af00; text-decoration-color: #00af00\">1</span>)                   │              <span style=\"color: #00af00; text-decoration-color: #00af00\">33</span> │\n",
              "└──────────────────────────────────────┴─────────────────────────────┴─────────────────┘\n",
              "</pre>\n"
            ]
          },
          "metadata": {}
        },
        {
          "output_type": "display_data",
          "data": {
            "text/plain": [
              "\u001b[1m Total params: \u001b[0m\u001b[38;5;34m2,753\u001b[0m (10.75 KB)\n"
            ],
            "text/html": [
              "<pre style=\"white-space:pre;overflow-x:auto;line-height:normal;font-family:Menlo,'DejaVu Sans Mono',consolas,'Courier New',monospace\"><span style=\"font-weight: bold\"> Total params: </span><span style=\"color: #00af00; text-decoration-color: #00af00\">2,753</span> (10.75 KB)\n",
              "</pre>\n"
            ]
          },
          "metadata": {}
        },
        {
          "output_type": "display_data",
          "data": {
            "text/plain": [
              "\u001b[1m Trainable params: \u001b[0m\u001b[38;5;34m2,753\u001b[0m (10.75 KB)\n"
            ],
            "text/html": [
              "<pre style=\"white-space:pre;overflow-x:auto;line-height:normal;font-family:Menlo,'DejaVu Sans Mono',consolas,'Courier New',monospace\"><span style=\"font-weight: bold\"> Trainable params: </span><span style=\"color: #00af00; text-decoration-color: #00af00\">2,753</span> (10.75 KB)\n",
              "</pre>\n"
            ]
          },
          "metadata": {}
        },
        {
          "output_type": "display_data",
          "data": {
            "text/plain": [
              "\u001b[1m Non-trainable params: \u001b[0m\u001b[38;5;34m0\u001b[0m (0.00 B)\n"
            ],
            "text/html": [
              "<pre style=\"white-space:pre;overflow-x:auto;line-height:normal;font-family:Menlo,'DejaVu Sans Mono',consolas,'Courier New',monospace\"><span style=\"font-weight: bold\"> Non-trainable params: </span><span style=\"color: #00af00; text-decoration-color: #00af00\">0</span> (0.00 B)\n",
              "</pre>\n"
            ]
          },
          "metadata": {}
        }
      ]
    },
    {
      "cell_type": "markdown",
      "source": [
        "# Train the model"
      ],
      "metadata": {
        "id": "3o7CBnJF9_Vj"
      }
    },
    {
      "cell_type": "code",
      "source": [
        "history = model.fit(X_train, Y_train, epochs=50, batch_size=32,\n",
        "                    validation_data=(X_val, Y_val), callbacks=[early_stopping])"
      ],
      "metadata": {
        "colab": {
          "base_uri": "https://localhost:8080/"
        },
        "id": "NbHbJYz8-CY9",
        "outputId": "cfd7fedc-b3b0-4b3e-e065-bc7f822376a1"
      },
      "execution_count": null,
      "outputs": [
        {
          "output_type": "stream",
          "name": "stdout",
          "text": [
            "Epoch 1/50\n",
            "\u001b[1m72/72\u001b[0m \u001b[32m━━━━━━━━━━━━━━━━━━━━\u001b[0m\u001b[37m\u001b[0m \u001b[1m4s\u001b[0m 10ms/step - accuracy: 0.5319 - loss: 1.2164 - precision_1: 0.4171 - recall_1: 0.4479 - val_accuracy: 0.6171 - val_loss: 1.0113 - val_precision_1: 0.6667 - val_recall_1: 0.0314\n",
            "Epoch 2/50\n",
            "\u001b[1m72/72\u001b[0m \u001b[32m━━━━━━━━━━━━━━━━━━━━\u001b[0m\u001b[37m\u001b[0m \u001b[1m1s\u001b[0m 4ms/step - accuracy: 0.6169 - loss: 0.9736 - precision_1: 0.7016 - recall_1: 0.0980 - val_accuracy: 0.6191 - val_loss: 0.8700 - val_precision_1: 1.0000 - val_recall_1: 0.0209\n",
            "Epoch 3/50\n",
            "\u001b[1m72/72\u001b[0m \u001b[32m━━━━━━━━━━━━━━━━━━━━\u001b[0m\u001b[37m\u001b[0m \u001b[1m0s\u001b[0m 4ms/step - accuracy: 0.6403 - loss: 0.8413 - precision_1: 0.8048 - recall_1: 0.0903 - val_accuracy: 0.6375 - val_loss: 0.7880 - val_precision_1: 0.8824 - val_recall_1: 0.0785\n",
            "Epoch 4/50\n",
            "\u001b[1m72/72\u001b[0m \u001b[32m━━━━━━━━━━━━━━━━━━━━\u001b[0m\u001b[37m\u001b[0m \u001b[1m0s\u001b[0m 4ms/step - accuracy: 0.6360 - loss: 0.7709 - precision_1: 0.7552 - recall_1: 0.1447 - val_accuracy: 0.6395 - val_loss: 0.7384 - val_precision_1: 0.7917 - val_recall_1: 0.0995\n",
            "Epoch 5/50\n",
            "\u001b[1m72/72\u001b[0m \u001b[32m━━━━━━━━━━━━━━━━━━━━\u001b[0m\u001b[37m\u001b[0m \u001b[1m1s\u001b[0m 4ms/step - accuracy: 0.6584 - loss: 0.7215 - precision_1: 0.7835 - recall_1: 0.1717 - val_accuracy: 0.6558 - val_loss: 0.7092 - val_precision_1: 0.7037 - val_recall_1: 0.1990\n",
            "Epoch 6/50\n",
            "\u001b[1m72/72\u001b[0m \u001b[32m━━━━━━━━━━━━━━━━━━━━\u001b[0m\u001b[37m\u001b[0m \u001b[1m0s\u001b[0m 4ms/step - accuracy: 0.6686 - loss: 0.6869 - precision_1: 0.7289 - recall_1: 0.2408 - val_accuracy: 0.6599 - val_loss: 0.6902 - val_precision_1: 0.7308 - val_recall_1: 0.1990\n",
            "Epoch 7/50\n",
            "\u001b[1m72/72\u001b[0m \u001b[32m━━━━━━━━━━━━━━━━━━━━\u001b[0m\u001b[37m\u001b[0m \u001b[1m1s\u001b[0m 4ms/step - accuracy: 0.6894 - loss: 0.6587 - precision_1: 0.7908 - recall_1: 0.2848 - val_accuracy: 0.6721 - val_loss: 0.6789 - val_precision_1: 0.6786 - val_recall_1: 0.2984\n",
            "Epoch 8/50\n",
            "\u001b[1m72/72\u001b[0m \u001b[32m━━━━━━━━━━━━━━━━━━━━\u001b[0m\u001b[37m\u001b[0m \u001b[1m0s\u001b[0m 4ms/step - accuracy: 0.6712 - loss: 0.6628 - precision_1: 0.7041 - recall_1: 0.2962 - val_accuracy: 0.6578 - val_loss: 0.6731 - val_precision_1: 0.6667 - val_recall_1: 0.2408\n",
            "Epoch 9/50\n",
            "\u001b[1m72/72\u001b[0m \u001b[32m━━━━━━━━━━━━━━━━━━━━\u001b[0m\u001b[37m\u001b[0m \u001b[1m0s\u001b[0m 4ms/step - accuracy: 0.6878 - loss: 0.6499 - precision_1: 0.7525 - recall_1: 0.3436 - val_accuracy: 0.6497 - val_loss: 0.6690 - val_precision_1: 0.6338 - val_recall_1: 0.2356\n",
            "Epoch 10/50\n",
            "\u001b[1m72/72\u001b[0m \u001b[32m━━━━━━━━━━━━━━━━━━━━\u001b[0m\u001b[37m\u001b[0m \u001b[1m0s\u001b[0m 4ms/step - accuracy: 0.6876 - loss: 0.6353 - precision_1: 0.6844 - recall_1: 0.3104 - val_accuracy: 0.6558 - val_loss: 0.6675 - val_precision_1: 0.6170 - val_recall_1: 0.3037\n",
            "Epoch 11/50\n",
            "\u001b[1m72/72\u001b[0m \u001b[32m━━━━━━━━━━━━━━━━━━━━\u001b[0m\u001b[37m\u001b[0m \u001b[1m0s\u001b[0m 4ms/step - accuracy: 0.6810 - loss: 0.6391 - precision_1: 0.6992 - recall_1: 0.3108 - val_accuracy: 0.6619 - val_loss: 0.6626 - val_precision_1: 0.6374 - val_recall_1: 0.3037\n",
            "Epoch 12/50\n",
            "\u001b[1m72/72\u001b[0m \u001b[32m━━━━━━━━━━━━━━━━━━━━\u001b[0m\u001b[37m\u001b[0m \u001b[1m1s\u001b[0m 4ms/step - accuracy: 0.6899 - loss: 0.6298 - precision_1: 0.7136 - recall_1: 0.3676 - val_accuracy: 0.6497 - val_loss: 0.6616 - val_precision_1: 0.6338 - val_recall_1: 0.2356\n",
            "Epoch 13/50\n",
            "\u001b[1m72/72\u001b[0m \u001b[32m━━━━━━━━━━━━━━━━━━━━\u001b[0m\u001b[37m\u001b[0m \u001b[1m0s\u001b[0m 4ms/step - accuracy: 0.6699 - loss: 0.6366 - precision_1: 0.7137 - recall_1: 0.3239 - val_accuracy: 0.6660 - val_loss: 0.6565 - val_precision_1: 0.6709 - val_recall_1: 0.2775\n",
            "Epoch 14/50\n",
            "\u001b[1m72/72\u001b[0m \u001b[32m━━━━━━━━━━━━━━━━━━━━\u001b[0m\u001b[37m\u001b[0m \u001b[1m0s\u001b[0m 4ms/step - accuracy: 0.6850 - loss: 0.6303 - precision_1: 0.6851 - recall_1: 0.3342 - val_accuracy: 0.6721 - val_loss: 0.6575 - val_precision_1: 0.6667 - val_recall_1: 0.3141\n",
            "Epoch 15/50\n",
            "\u001b[1m72/72\u001b[0m \u001b[32m━━━━━━━━━━━━━━━━━━━━\u001b[0m\u001b[37m\u001b[0m \u001b[1m0s\u001b[0m 4ms/step - accuracy: 0.6835 - loss: 0.6374 - precision_1: 0.7154 - recall_1: 0.3537 - val_accuracy: 0.6517 - val_loss: 0.6593 - val_precision_1: 0.5806 - val_recall_1: 0.3770\n",
            "Epoch 16/50\n",
            "\u001b[1m72/72\u001b[0m \u001b[32m━━━━━━━━━━━━━━━━━━━━\u001b[0m\u001b[37m\u001b[0m \u001b[1m1s\u001b[0m 4ms/step - accuracy: 0.6954 - loss: 0.6319 - precision_1: 0.6910 - recall_1: 0.3867 - val_accuracy: 0.6578 - val_loss: 0.6568 - val_precision_1: 0.6825 - val_recall_1: 0.2251\n",
            "Epoch 17/50\n",
            "\u001b[1m72/72\u001b[0m \u001b[32m━━━━━━━━━━━━━━━━━━━━\u001b[0m\u001b[37m\u001b[0m \u001b[1m1s\u001b[0m 4ms/step - accuracy: 0.6837 - loss: 0.6270 - precision_1: 0.7086 - recall_1: 0.3458 - val_accuracy: 0.6660 - val_loss: 0.6554 - val_precision_1: 0.6484 - val_recall_1: 0.3089\n",
            "Epoch 18/50\n",
            "\u001b[1m72/72\u001b[0m \u001b[32m━━━━━━━━━━━━━━━━━━━━\u001b[0m\u001b[37m\u001b[0m \u001b[1m1s\u001b[0m 4ms/step - accuracy: 0.6846 - loss: 0.6260 - precision_1: 0.6761 - recall_1: 0.3742 - val_accuracy: 0.6741 - val_loss: 0.6525 - val_precision_1: 0.6667 - val_recall_1: 0.3246\n",
            "Epoch 19/50\n",
            "\u001b[1m72/72\u001b[0m \u001b[32m━━━━━━━━━━━━━━━━━━━━\u001b[0m\u001b[37m\u001b[0m \u001b[1m1s\u001b[0m 7ms/step - accuracy: 0.6753 - loss: 0.6213 - precision_1: 0.6639 - recall_1: 0.3780 - val_accuracy: 0.6680 - val_loss: 0.6518 - val_precision_1: 0.6892 - val_recall_1: 0.2670\n",
            "Epoch 20/50\n",
            "\u001b[1m72/72\u001b[0m \u001b[32m━━━━━━━━━━━━━━━━━━━━\u001b[0m\u001b[37m\u001b[0m \u001b[1m1s\u001b[0m 7ms/step - accuracy: 0.6871 - loss: 0.6185 - precision_1: 0.7026 - recall_1: 0.3699 - val_accuracy: 0.6660 - val_loss: 0.6568 - val_precision_1: 0.6364 - val_recall_1: 0.3298\n",
            "Epoch 21/50\n",
            "\u001b[1m72/72\u001b[0m \u001b[32m━━━━━━━━━━━━━━━━━━━━\u001b[0m\u001b[37m\u001b[0m \u001b[1m1s\u001b[0m 7ms/step - accuracy: 0.6838 - loss: 0.6212 - precision_1: 0.7199 - recall_1: 0.3911 - val_accuracy: 0.6578 - val_loss: 0.6558 - val_precision_1: 0.6667 - val_recall_1: 0.2408\n",
            "Epoch 22/50\n",
            "\u001b[1m72/72\u001b[0m \u001b[32m━━━━━━━━━━━━━━━━━━━━\u001b[0m\u001b[37m\u001b[0m \u001b[1m1s\u001b[0m 6ms/step - accuracy: 0.6888 - loss: 0.6192 - precision_1: 0.7163 - recall_1: 0.3456 - val_accuracy: 0.6741 - val_loss: 0.6528 - val_precision_1: 0.6782 - val_recall_1: 0.3089\n",
            "Epoch 23/50\n",
            "\u001b[1m72/72\u001b[0m \u001b[32m━━━━━━━━━━━━━━━━━━━━\u001b[0m\u001b[37m\u001b[0m \u001b[1m1s\u001b[0m 6ms/step - accuracy: 0.6934 - loss: 0.6213 - precision_1: 0.7070 - recall_1: 0.3917 - val_accuracy: 0.6558 - val_loss: 0.6579 - val_precision_1: 0.6410 - val_recall_1: 0.2618\n",
            "Epoch 24/50\n",
            "\u001b[1m72/72\u001b[0m \u001b[32m━━━━━━━━━━━━━━━━━━━━\u001b[0m\u001b[37m\u001b[0m \u001b[1m0s\u001b[0m 4ms/step - accuracy: 0.7009 - loss: 0.6128 - precision_1: 0.7072 - recall_1: 0.4043 - val_accuracy: 0.6578 - val_loss: 0.6518 - val_precision_1: 0.6095 - val_recall_1: 0.3351\n",
            "Epoch 25/50\n",
            "\u001b[1m72/72\u001b[0m \u001b[32m━━━━━━━━━━━━━━━━━━━━\u001b[0m\u001b[37m\u001b[0m \u001b[1m1s\u001b[0m 4ms/step - accuracy: 0.6756 - loss: 0.6223 - precision_1: 0.6610 - recall_1: 0.3662 - val_accuracy: 0.6721 - val_loss: 0.6508 - val_precision_1: 0.6786 - val_recall_1: 0.2984\n",
            "Epoch 26/50\n",
            "\u001b[1m72/72\u001b[0m \u001b[32m━━━━━━━━━━━━━━━━━━━━\u001b[0m\u001b[37m\u001b[0m \u001b[1m0s\u001b[0m 4ms/step - accuracy: 0.7012 - loss: 0.6057 - precision_1: 0.7026 - recall_1: 0.3851 - val_accuracy: 0.6640 - val_loss: 0.6523 - val_precision_1: 0.6711 - val_recall_1: 0.2670\n",
            "Epoch 27/50\n",
            "\u001b[1m72/72\u001b[0m \u001b[32m━━━━━━━━━━━━━━━━━━━━\u001b[0m\u001b[37m\u001b[0m \u001b[1m1s\u001b[0m 4ms/step - accuracy: 0.6953 - loss: 0.6135 - precision_1: 0.7080 - recall_1: 0.3633 - val_accuracy: 0.6660 - val_loss: 0.6518 - val_precision_1: 0.6753 - val_recall_1: 0.2723\n",
            "Epoch 28/50\n",
            "\u001b[1m72/72\u001b[0m \u001b[32m━━━━━━━━━━━━━━━━━━━━\u001b[0m\u001b[37m\u001b[0m \u001b[1m0s\u001b[0m 6ms/step - accuracy: 0.6824 - loss: 0.6188 - precision_1: 0.6782 - recall_1: 0.3510 - val_accuracy: 0.6497 - val_loss: 0.6488 - val_precision_1: 0.6000 - val_recall_1: 0.2984\n",
            "Epoch 29/50\n",
            "\u001b[1m72/72\u001b[0m \u001b[32m━━━━━━━━━━━━━━━━━━━━\u001b[0m\u001b[37m\u001b[0m \u001b[1m1s\u001b[0m 4ms/step - accuracy: 0.6857 - loss: 0.6132 - precision_1: 0.6660 - recall_1: 0.3692 - val_accuracy: 0.6619 - val_loss: 0.6512 - val_precision_1: 0.6374 - val_recall_1: 0.3037\n",
            "Epoch 30/50\n",
            "\u001b[1m72/72\u001b[0m \u001b[32m━━━━━━━━━━━━━━━━━━━━\u001b[0m\u001b[37m\u001b[0m \u001b[1m0s\u001b[0m 4ms/step - accuracy: 0.6961 - loss: 0.6207 - precision_1: 0.7188 - recall_1: 0.3847 - val_accuracy: 0.6538 - val_loss: 0.6497 - val_precision_1: 0.6364 - val_recall_1: 0.2565\n",
            "Epoch 31/50\n",
            "\u001b[1m72/72\u001b[0m \u001b[32m━━━━━━━━━━━━━━━━━━━━\u001b[0m\u001b[37m\u001b[0m \u001b[1m1s\u001b[0m 4ms/step - accuracy: 0.6841 - loss: 0.6168 - precision_1: 0.6845 - recall_1: 0.3618 - val_accuracy: 0.6619 - val_loss: 0.6509 - val_precision_1: 0.6667 - val_recall_1: 0.2618\n",
            "Epoch 32/50\n",
            "\u001b[1m72/72\u001b[0m \u001b[32m━━━━━━━━━━━━━━━━━━━━\u001b[0m\u001b[37m\u001b[0m \u001b[1m1s\u001b[0m 4ms/step - accuracy: 0.6868 - loss: 0.6201 - precision_1: 0.7148 - recall_1: 0.3802 - val_accuracy: 0.6415 - val_loss: 0.6505 - val_precision_1: 0.5758 - val_recall_1: 0.2984\n",
            "Epoch 33/50\n",
            "\u001b[1m72/72\u001b[0m \u001b[32m━━━━━━━━━━━━━━━━━━━━\u001b[0m\u001b[37m\u001b[0m \u001b[1m0s\u001b[0m 4ms/step - accuracy: 0.6893 - loss: 0.6130 - precision_1: 0.7008 - recall_1: 0.3897 - val_accuracy: 0.6619 - val_loss: 0.6526 - val_precision_1: 0.6866 - val_recall_1: 0.2408\n"
          ]
        }
      ]
    },
    {
      "cell_type": "code",
      "source": [
        "# Save the model\n",
        "model.save('madol_water_quality_model.keras')\n",
        "print(\"\\nModel saved as 'madol_water_quality_model.h5'\")"
      ],
      "metadata": {
        "colab": {
          "base_uri": "https://localhost:8080/"
        },
        "id": "2sIgBoBT-bbw",
        "outputId": "19432085-4dcc-4625-cd38-0ee47fedc47c"
      },
      "execution_count": null,
      "outputs": [
        {
          "output_type": "stream",
          "name": "stdout",
          "text": [
            "\n",
            "Model saved as 'madol_water_quality_model.h5'\n"
          ]
        }
      ]
    },
    {
      "cell_type": "markdown",
      "source": [
        "# Model Evaluation"
      ],
      "metadata": {
        "id": "g77F0kAUGhjy"
      }
    },
    {
      "cell_type": "code",
      "source": [
        "test_loss, test_accuracy, test_precision, test_recall = model.evaluate(X_test, Y_test)\n",
        "print(f\"Test Loss: {test_loss}, Test Accuracy: {test_accuracy}, Test Precision: {test_precision}, Test Recall: {test_recall}\")"
      ],
      "metadata": {
        "colab": {
          "base_uri": "https://localhost:8080/"
        },
        "id": "Ohi4I0wiGnOQ",
        "outputId": "81aceef2-803f-426d-c7b3-4091094d4a19"
      },
      "execution_count": null,
      "outputs": [
        {
          "output_type": "stream",
          "name": "stdout",
          "text": [
            "\u001b[1m16/16\u001b[0m \u001b[32m━━━━━━━━━━━━━━━━━━━━\u001b[0m\u001b[37m\u001b[0m \u001b[1m0s\u001b[0m 4ms/step - accuracy: 0.7200 - loss: 0.6150 - precision_1: 0.6948 - recall_1: 0.4004 \n",
            "Test Loss: 0.6306536197662354, Test Accuracy: 0.6869918704032898, Test Precision: 0.682692289352417, Test Recall: 0.3697916567325592\n"
          ]
        }
      ]
    },
    {
      "cell_type": "code",
      "source": [
        "from sklearn.metrics import f1_score\n",
        "y_pred = (model.predict(X_test) > 0.5).astype(int)  # For binary classification\n",
        "f1 = f1_score(Y_test, y_pred)\n",
        "print(f\"F1 Score: {f1}\")"
      ],
      "metadata": {
        "colab": {
          "base_uri": "https://localhost:8080/"
        },
        "id": "_y4p_21kHjCb",
        "outputId": "c47ac3e1-0f35-40b3-8e88-8e2ef99f645d"
      },
      "execution_count": null,
      "outputs": [
        {
          "output_type": "stream",
          "name": "stdout",
          "text": [
            "\u001b[1m16/16\u001b[0m \u001b[32m━━━━━━━━━━━━━━━━━━━━\u001b[0m\u001b[37m\u001b[0m \u001b[1m0s\u001b[0m 5ms/step\n",
            "F1 Score: 0.4797297297297297\n"
          ]
        }
      ]
    },
    {
      "cell_type": "code",
      "source": [
        "import matplotlib.pyplot as plt\n",
        "\n",
        "# Plot training and validation loss\n",
        "plt.figure(figsize=(12, 5))\n",
        "\n",
        "# Plot Loss\n",
        "plt.subplot(1, 2, 1)\n",
        "plt.plot(history.history['loss'], label='Training Loss')\n",
        "plt.plot(history.history['val_loss'], label='Validation Loss')\n",
        "plt.title('Training and Validation Loss')\n",
        "plt.xlabel('Epochs')\n",
        "plt.ylabel('Loss')\n",
        "plt.legend()\n",
        "\n"
      ],
      "metadata": {
        "colab": {
          "base_uri": "https://localhost:8080/",
          "height": 504
        },
        "id": "oJCZ5hbJH8Wi",
        "outputId": "6ab0df0a-d47d-4f69-e504-235ab5cbb7b4"
      },
      "execution_count": null,
      "outputs": [
        {
          "output_type": "execute_result",
          "data": {
            "text/plain": [
              "<matplotlib.legend.Legend at 0x7fe7906b4490>"
            ]
          },
          "metadata": {},
          "execution_count": 57
        },
        {
          "output_type": "display_data",
          "data": {
            "text/plain": [
              "<Figure size 1200x500 with 1 Axes>"
            ],
            "image/png": "iVBORw0KGgoAAAANSUhEUgAAAe4AAAHWCAYAAACxPmqWAAAAOnRFWHRTb2Z0d2FyZQBNYXRwbG90bGliIHZlcnNpb24zLjEwLjAsIGh0dHBzOi8vbWF0cGxvdGxpYi5vcmcvlHJYcgAAAAlwSFlzAAAPYQAAD2EBqD+naQAAZWpJREFUeJzt3Xd4U2X/BvD7JG3SpnsPKC0tBQpCQdZbkCVVln1ZKiqyFPmB4EJ8EZmigq8TRQUHggtBEHCAzBdUEGUPZUNpC3SX7pE2Ob8/TnNo6KAj6Wna+3NduZKcnCTfkOqd5znP8xxBFEURREREZBNUShdARERE1cfgJiIisiEMbiIiIhvC4CYiIrIhDG4iIiIbwuAmIiKyIQxuIiIiG8LgJiIisiEMbiIiIhvC4KZGa8KECQgJCanVcxcuXAhBECxbUANz5coVCIKA1atX1/t7C4KAhQsXyvdXr14NQRBw5cqV2z43JCQEEyZMsGg9dflbIapvDG6qd4IgVOuyd+9epUtt8p5++mkIgoCLFy9Wus+cOXMgCAJOnjxZj5XV3PXr17Fw4UIcP35c6VJkph9Pb731ltKlkA2xU7oAanq++uors/tffvkldu7cWW57REREnd7n008/hdForNVz586dixdffLFO798YjBkzBsuWLcOaNWswf/78Cvf59ttv0aFDB3Ts2LHW7zN27Fg89NBD0Gq1tX6N27l+/TpefvllhISEoFOnTmaP1eVvhai+Mbip3j366KNm9//880/s3Lmz3PZb5efnQ6fTVft97O3ta1UfANjZ2cHOjv959OjRA61atcK3335bYXAfOHAAsbGxeP311+v0Pmq1Gmq1uk6vURd1+Vshqm/sKqcGqV+/frjjjjtw5MgR9OnTBzqdDi+99BIA4IcffsDQoUMRGBgIrVaLsLAwvPLKKzAYDGavcetxy7Ldkp988gnCwsKg1WrRrVs3HDp0yOy5FR3jFgQB06dPx+bNm3HHHXdAq9Wiffv22LZtW7n69+7di65du8LBwQFhYWH4+OOPq33c/Pfff8cDDzyAFi1aQKvVIigoCM899xwKCgrKfT5nZ2dcu3YNw4cPh7OzM3x8fDBz5sxy/xaZmZmYMGEC3Nzc4O7ujvHjxyMzM/O2tQBSq/vs2bM4evRoucfWrFkDQRDw8MMPQ6/XY/78+ejSpQvc3Nzg5OSE3r17Y8+ePbd9j4qOcYuiiFdffRXNmzeHTqdD//798c8//5R7bkZGBmbOnIkOHTrA2dkZrq6uGDx4ME6cOCHvs3fvXnTr1g0AMHHiRPlwjOn4fkXHuPPy8vD8888jKCgIWq0Wbdq0wVtvvYVbT6hYk7+L2kpJScHjjz8OPz8/ODg4IDIyEl988UW5/dauXYsuXbrAxcUFrq6u6NChA9577z358eLiYrz88ssIDw+Hg4MDvLy8cNddd2Hnzp0Wq5Wsj00KarDS09MxePBgPPTQQ3j00Ufh5+cHQPqfvLOzM2bMmAFnZ2f873//w/z585GdnY0333zztq+7Zs0a5OTk4P/+7/8gCALeeOMNjBw5EpcvX75ty2vfvn3YuHEjnnzySbi4uOD999/HqFGjEB8fDy8vLwDAsWPHMGjQIAQEBODll1+GwWDAokWL4OPjU63PvX79euTn52Pq1Knw8vLCwYMHsWzZMly9ehXr168329dgMGDgwIHo0aMH3nrrLezatQtvv/02wsLCMHXqVABSAA4bNgz79u3DlClTEBERgU2bNmH8+PHVqmfMmDF4+eWXsWbNGtx5551m7/3dd9+hd+/eaNGiBdLS0vDZZ5/h4YcfxhNPPIGcnBysXLkSAwcOxMGDB8t1T9/O/Pnz8eqrr2LIkCEYMmQIjh49invvvRd6vd5sv8uXL2Pz5s144IEH0LJlSyQnJ+Pjjz9G3759cfr0aQQGBiIiIgKLFi3C/PnzMXnyZPTu3RsA0LNnzwrfWxRF/Pvf/8aePXvw+OOPo1OnTti+fTteeOEFXLt2De+++67Z/tX5u6itgoIC9OvXDxcvXsT06dPRsmVLrF+/HhMmTEBmZiaeeeYZAMDOnTvx8MMPY8CAAfjvf/8LADhz5gz2798v77Nw4UIsWbIEkyZNQvfu3ZGdnY3Dhw/j6NGjuOeee+pUJ9UjkUhh06ZNE2/9U+zbt68IQFyxYkW5/fPz88tt+7//+z9Rp9OJhYWF8rbx48eLwcHB8v3Y2FgRgOjl5SVmZGTI23/44QcRgPjTTz/J2xYsWFCuJgCiRqMRL168KG87ceKECEBctmyZvC0mJkbU6XTitWvX5G0XLlwQ7ezsyr1mRSr6fEuWLBEFQRDj4uLMPh8AcdGiRWb7du7cWezSpYt8f/PmzSIA8Y033pC3lZSUiL179xYBiKtWrbptTd26dRObN28uGgwGedu2bdtEAOLHH38sv2ZRUZHZ827cuCH6+fmJjz32mNl2AOKCBQvk+6tWrRIBiLGxsaIoimJKSoqo0WjEoUOHikajUd7vpZdeEgGI48ePl7cVFhaa1SWK0net1WrN/m0OHTpU6ee99W/F9G/26quvmu13//33i4IgmP0NVPfvoiKmv8k333yz0n2WLl0qAhC//vpreZterxejoqJEZ2dnMTs7WxRFUXzmmWdEV1dXsaSkpNLXioyMFIcOHVplTdTwsaucGiytVouJEyeW2+7o6CjfzsnJQVpaGnr37o38/HycPXv2tq87evRoeHh4yPdNra/Lly/f9rnR0dEICwuT73fs2BGurq7ycw0GA3bt2oXhw4cjMDBQ3q9Vq1YYPHjwbV8fMP98eXl5SEtLQ8+ePSGKIo4dO1Zu/ylTppjd7927t9ln2bp1K+zs7OQWOCAdU37qqaeqVQ8gjUu4evUqfvvtN3nbmjVroNFo8MADD8ivqdFoAABGoxEZGRkoKSlB165dK+xmr8quXbug1+vx1FNPmR1eePbZZ8vtq9VqoVJJ/yszGAxIT0+Hs7Mz2rRpU+P3Ndm6dSvUajWefvpps+3PP/88RFHEL7/8Yrb9dn8XdbF161b4+/vj4YcflrfZ29vj6aefRm5uLn799VcAgLu7O/Ly8qrs9nZ3d8c///yDCxcu1LkuUg6DmxqsZs2ayUFQ1j///IMRI0bAzc0Nrq6u8PHxkQe2ZWVl3fZ1W7RoYXbfFOI3btyo8XNNzzc9NyUlBQUFBWjVqlW5/SraVpH4+HhMmDABnp6e8nHrvn37Aij/+RwcHMp1wZetBwDi4uIQEBAAZ2dns/3atGlTrXoA4KGHHoJarcaaNWsAAIWFhdi0aRMGDx5s9iPoiy++QMeOHeXjpz4+PtiyZUu1vpey4uLiAADh4eFm2318fMzeD5B+JLz77rsIDw+HVquFt7c3fHx8cPLkyRq/b9n3DwwMhIuLi9l200wHU30mt/u7qIu4uDiEh4fLP04qq+XJJ59E69atMXjwYDRv3hyPPfZYuePsixYtQmZmJlq3bo0OHTrghRdeaPDT+Kg8Bjc1WGVbniaZmZno27cvTpw4gUWLFuGnn37Czp075WN61ZnSU9noZfGWQUeWfm51GAwG3HPPPdiyZQtmzZqFzZs3Y+fOnfIgqls/X32NxPb19cU999yD77//HsXFxfjpp5+Qk5ODMWPGyPt8/fXXmDBhAsLCwrBy5Ups27YNO3fuxN13323VqVaLFy/GjBkz0KdPH3z99dfYvn07du7cifbt29fbFC9r/11Uh6+vL44fP44ff/xRPj4/ePBgs7EMffr0waVLl/D555/jjjvuwGeffYY777wTn332Wb3VSXXHwWlkU/bu3Yv09HRs3LgRffr0kbfHxsYqWNVNvr6+cHBwqHDBkqoWMTE5deoUzp8/jy+++ALjxo2Tt9dl1G9wcDB2796N3Nxcs1b3uXPnavQ6Y8aMwbZt2/DLL79gzZo1cHV1RUxMjPz4hg0bEBoaio0bN5p1by9YsKBWNQPAhQsXEBoaKm9PTU0t14rdsGED+vfvj5UrV5ptz8zMhLe3t3y/JivhBQcHY9euXcjJyTFrdZsOxZjqqw/BwcE4efIkjEajWau7olo0Gg1iYmIQExMDo9GIJ598Eh9//DHmzZsn9/h4enpi4sSJmDhxInJzc9GnTx8sXLgQkyZNqrfPRHXDFjfZFFPLpmxLRq/X46OPPlKqJDNqtRrR0dHYvHkzrl+/Lm+/ePFiueOilT0fMP98oiiaTempqSFDhqCkpATLly+XtxkMBixbtqxGrzN8+HDodDp89NFH+OWXXzBy5Eg4ODhUWftff/2FAwcO1Ljm6Oho2NvbY9myZWavt3Tp0nL7qtXqci3b9evX49q1a2bbnJycAKBa0+CGDBkCg8GADz74wGz7u+++C0EQqj1ewRKGDBmCpKQkrFu3Tt5WUlKCZcuWwdnZWT6Mkp6ebvY8lUolL4pTVFRU4T7Ozs5o1aqV/DjZBra4yab07NkTHh4eGD9+vLwc51dffVWvXZK3s3DhQuzYsQO9evXC1KlT5QC44447brvcZtu2bREWFoaZM2fi2rVrcHV1xffff1+nY6UxMTHo1asXXnzxRVy5cgXt2rXDxo0ba3z819nZGcOHD5ePc5ftJgeA++67Dxs3bsSIESMwdOhQxMbGYsWKFWjXrh1yc3Nr9F6m+ehLlizBfffdhyFDhuDYsWP45ZdfzFrRpvddtGgRJk6ciJ49e+LUqVP45ptvzFrqABAWFgZ3d3esWLECLi4ucHJyQo8ePdCyZcty7x8TE4P+/ftjzpw5uHLlCiIjI7Fjxw788MMPePbZZ80GolnC7t27UVhYWG778OHDMXnyZHz88ceYMGECjhw5gpCQEGzYsAH79+/H0qVL5R6BSZMmISMjA3fffTeaN2+OuLg4LFu2DJ06dZKPh7dr1w79+vVDly5d4OnpicOHD2PDhg2YPn26RT8PWZkyg9mJbqpsOlj79u0r3H///v3iv/71L9HR0VEMDAwU//Of/4jbt28XAYh79uyR96tsOlhFU29wy/SkyqaDTZs2rdxzg4ODzaYniaIo7t69W+zcubOo0WjEsLAw8bPPPhOff/550cHBoZJ/hZtOnz4tRkdHi87OzqK3t7f4xBNPyNOLyk5lGj9+vOjk5FTu+RXVnp6eLo4dO1Z0dXUV3dzcxLFjx4rHjh2r9nQwky1btogAxICAgHJTsIxGo7h48WIxODhY1Gq1YufOncWff/653PcgirefDiaKomgwGMSXX35ZDAgIEB0dHcV+/fqJf//9d7l/78LCQvH555+X9+vVq5d44MABsW/fvmLfvn3N3veHH34Q27VrJ0/NM332imrMyckRn3vuOTEwMFC0t7cXw8PDxTfffNNseprps1T37+JWpr/Jyi5fffWVKIqimJycLE6cOFH09vYWNRqN2KFDh3Lf24YNG8R7771X9PX1FTUajdiiRQvx//7v/8TExER5n1dffVXs3r276O7uLjo6Oopt27YVX3vtNVGv11dZJzUsgig2oKYKUSM2fPhwTsUhojrjMW4iK7h1edILFy5g69at6NevnzIFEVGjwRY3kRUEBARgwoQJCA0NRVxcHJYvX46ioiIcO3as3NxkIqKa4OA0IisYNGgQvv32WyQlJUGr1SIqKgqLFy9maBNRnbHFTUREZEN4jJuIiMiGMLiJiIhsSJM7xm00GnH9+nW4uLjUaAlEIiIiaxFFETk5OQgMDCx3QplbNbngvn79OoKCgpQug4iIqJyEhAQ0b968yn2aXHCblgdMSEiAq6urwtUQEREB2dnZCAoKKncq2Yo0ueA2dY+7uroyuImIqEGpziFcDk4jIiKyIQxuIiIiG8LgJiIisiFN7hg3EVFVDAYDiouLlS6DGhm1Wg07OzuLTENmcBMRlcrNzcXVq1fBlaDJGnQ6HQICAqDRaOr0OgxuIiJILe2rV69Cp9PBx8eHCzSRxYiiCL1ej9TUVMTGxiI8PPy2i6xUhcFNRASguLgYoijCx8cHjo6OSpdDjYyjoyPs7e0RFxcHvV4PBweHWr8WB6cREZXBljZZS11a2WavY5FXISIionrB4CYiIrIhDG4iIjITEhKCpUuXVnv/vXv3QhAEZGZmWq0muonBTURkowRBqPKycOHCWr3uoUOHMHny5Grv37NnTyQmJsLNza1W71dd/IEg4ahyIiIblZiYKN9et24d5s+fj3PnzsnbnJ2d5duiKMJgMMDO7vb/2/fx8alRHRqNBv7+/jV6DtUeW9x1sOnYVQxa+huW/HJG6VKIyMJEUUS+vkSRS3UXgPH395cvbm5uEARBvn/27Fm4uLjgl19+QZcuXaDVarFv3z5cunQJw4YNg5+fH5ydndGtWzfs2rXL7HVv7SoXBAGfffYZRowYAZ1Oh/DwcPz444/y47e2hFevXg13d3ds374dERERcHZ2xqBBg8x+aJSUlODpp5+Gu7s7vLy8MGvWLIwfPx7Dhw+v9Xd248YNjBs3Dh4eHtDpdBg8eDAuXLggPx4XF4eYmBh4eHjAyckJ7du3x9atW+XnjhkzRp4OGB4ejlWrVtW6Fmtii7sO8ooMOJuUgxaeOqVLISILKyg2oN387Yq89+lFA6HTWOZ/zy+++CLeeusthIaGwsPDAwkJCRgyZAhee+01aLVafPnll4iJicG5c+fQokWLSl/n5ZdfxhtvvIE333wTy5Ytw5gxYxAXFwdPT88K98/Pz8dbb72Fr776CiqVCo8++ihmzpyJb775BgDw3//+F9988w1WrVqFiIgIvPfee9i8eTP69+9f6886YcIEXLhwAT/++CNcXV0xa9YsDBkyBKdPn4a9vT2mTZsGvV6P3377DU5OTjh9+rTcKzFv3jycPn0av/zyC7y9vXHx4kUUFBTUuhZrYnDXgbeztGxdWm6RwpUQEVVs0aJFuOeee+T7np6eiIyMlO+/8sor2LRpE3788UdMnz690teZMGECHn74YQDA4sWL8f777+PgwYMYNGhQhfsXFxdjxYoVCAsLAwBMnz4dixYtkh9ftmwZZs+ejREjRgAAPvjgA7n1WxumwN6/fz969uwJAPjmm28QFBSEzZs344EHHkB8fDxGjRqFDh06AABCQ0Pl58fHx6Nz587o2rUrAKnXoaFicNeBt7MWAJCWq1e4EiKyNEd7NU4vGqjYe1uKKYhMcnNzsXDhQmzZsgWJiYkoKSlBQUEB4uPjq3ydjh07yrednJzg6uqKlJSUSvfX6XRyaANAQECAvH9WVhaSk5PRvXt3+XG1Wo0uXbrAaDTW6POZnDlzBnZ2dujRo4e8zcvLC23atMGZM9LhzKeffhpTp07Fjh07EB0djVGjRsmfa+rUqRg1ahSOHj2Ke++9F8OHD5d/ADQ0PMZdB16lwZ3OFjdRoyMIAnQaO0Uully9zcnJyez+zJkzsWnTJixevBi///47jh8/jg4dOkCvr7oBYm9vX+7fp6qQrWh/pU/eMmnSJFy+fBljx47FqVOn0LVrVyxbtgwAMHjwYMTFxeG5557D9evXMWDAAMycOVPReivD4K4DU1d5nt6AAr1B4WqIiG5v//79mDBhAkaMGIEOHTrA398fV65cqdca3Nzc4Ofnh0OHDsnbDAYDjh49WuvXjIiIQElJCf766y95W3p6Os6dO4d27drJ24KCgjBlyhRs3LgRzz//PD799FP5MR8fH4wfPx5ff/01li5dik8++aTW9VgTu8rrwFlrB42dCvoSI9JyixDEQWpE1MCFh4dj48aNiImJgSAImDdvXq27p+viqaeewpIlS9CqVSu0bdsWy5Ytw40bN6rV23Dq1Cm4uLjI9wVBQGRkJIYNG4YnnngCH3/8MVxcXPDiiy+iWbNmGDZsGADg2WefxeDBg9G6dWvcuHEDe/bsQUREBABg/vz56NKlC9q3b4+ioiL8/PPP8mMNDYO7DgRBgI+zFtcyCxjcRGQT3nnnHTz22GPo2bMnvL29MWvWLGRnZ9d7HbNmzUJSUhLGjRsHtVqNyZMnY+DAgVCrb398v0+fPmb31Wo1SkpKsGrVKjzzzDO47777oNfr0adPH2zdulXutjcYDJg2bRquXr0KV1dXDBo0CO+++y4AaS767NmzceXKFTg6OqJ3795Yu3at5T+4BQii0gcd6ll2djbc3NyQlZUFV1fXOr/esA/24cTVLHw2riui2/lZoEIiUkJhYSFiY2PRsmXLOp1ykWrHaDQiIiICDz74IF555RWly7GKqv7GapJNbHHXkZc8spwD1IiIqisuLg47duxA3759UVRUhA8++ACxsbF45JFHlC6twePgtDoyDVBLz+OUMCKi6lKpVFi9ejW6deuGXr164dSpU9i1a1eDPa7ckLDFXUemFndqDlvcRETVFRQUhP379ytdhk1ii7uOTIuwsMVNRET1gcFdR/Kyp2xxExFRPWBw19HNFjeDm4iIrI/BXUde8olG2FVORETWx+CuI1OL+0a+HiWG+l99iIiImhYGdx156DRQCYAoAhn5bHUTEZF1MbjrSK0S4OlkGqDG4CYi29OvXz88++yz8v2QkBAsXbq0yucIgoDNmzfX+b0t9TpNCYPbArycOECNiOpfTEwMBg0aVOFjv//+OwRBwMmTJ2v8uocOHcLkyZPrWp6ZhQsXolOnTuW2JyYmYvDgwRZ9r1utXr0a7u7uVn2P+sTgtgBvF9MANQY3EdWfxx9/HDt37sTVq1fLPbZq1Sp07doVHTt2rPHr+vj4QKern5Mm+fv7Q6vV1st7NRYMbguQp4RxZDlR4yGKgD5PmUs1z/103333wcfHB6tXrzbbnpubi/Xr1+Pxxx9Heno6Hn74YTRr1gw6nQ4dOnTAt99+W+Xr3tpVfuHCBfTp0wcODg5o164ddu7cWe45s2bNQuvWraHT6RAaGop58+ahuLgYgNTiffnll3HixAkIggBBEOSab+0qP3XqFO6++244OjrCy8sLkydPRm5urvz4hAkTMHz4cLz11lsICAiAl5cXpk2bJr9XbcTHx2PYsGFwdnaGq6srHnzwQSQnJ8uPnzhxAv3794eLiwtcXV3RpUsXHD58GIC05npMTAw8PDzg5OSE9u3bY+vWrbWupTq45KkFmLrKU9niJmo8ivOBxYHKvPdL1wGN0213s7Ozw7hx47B69WrMmTNHPpf1+vXrYTAY8PDDDyM3NxddunTBrFmz4Orqii1btmDs2LEICwtD9+7db/seRqMRI0eOhJ+fH/766y9kZWWZHQ83cXFxwerVqxEYGIhTp07hiSeegIuLC/7zn/9g9OjR+Pvvv7Ft2zbs2rULAODm5lbuNfLy8jBw4EBERUXh0KFDSElJwaRJkzB9+nSzHyd79uxBQEAA9uzZg4sXL2L06NHo1KkTnnjiidt+noo+nym0f/31V5SUlGDatGkYPXo09u7dCwAYM2YMOnfujOXLl0OtVuP48ePyqUKnTZsGvV6P3377DU5OTjh9+jScnZ1rXEdNMLgtwNRVzhY3EdW3xx57DG+++SZ+/fVX9OvXD4DUTT5q1Ci4ubnBzc0NM2fOlPd/6qmnsH37dnz33XfVCu5du3bh7Nmz2L59OwIDpR8yixcvLndceu7cufLtkJAQzJw5E2vXrsV//vMfODo6wtnZGXZ2dvD396/0vdasWYPCwkJ8+eWXcHKSfrh88MEHiImJwX//+1/4+UmnTvbw8MAHH3wAtVqNtm3bYujQodi9e3etgnv37t04deoUYmNjERQUBAD48ssv0b59exw6dAjdunVDfHw8XnjhBbRt2xYAEB4eLj8/Pj4eo0aNQocOHQAAoaGhNa6hphjcFuDtxFN7EjU69jqp5avUe1dT27Zt0bNnT3z++efo168fLl68iN9//x2LFi0CABgMBixevBjfffcdrl27Br1ej6Kiomofwz5z5gyCgoLk0AaAqKiocvutW7cO77//Pi5duoTc3FyUlJTc9rzSFb1XZGSkHNoA0KtXLxiNRpw7d04O7vbt20OtVsv7BAQE4NSpUzV6r7LvGRQUJIc2ALRr1w7u7u44c+YMunXrhhkzZmDSpEn46quvEB0djQceeABhYWEAgKeffhpTp07Fjh07EB0djVGjRtVqXEFNKHqM+7fffkNMTAwCAwOrNSUgMTERjzzyCFq3bg2VSlVhd40S2OImaoQEQequVuJS2uVdXY8//ji+//575OTkYNWqVQgLC0Pfvn0BAG+++Sbee+89zJo1C3v27MHx48cxcOBA6PWW+//VgQMHMGbMGAwZMgQ///wzjh07hjlz5lj0PcoydVObCIIAo9F6C2AtXLgQ//zzD4YOHYr//e9/aNeuHTZt2gQAmDRpEi5fvoyxY8fi1KlT6Nq1K5YtW2a1WgCFgzsvLw+RkZH48MMPq7V/UVERfHx8MHfuXERGRlq5uurzYoubiBT04IMPQqVSYc2aNfjyyy/x2GOPyce79+/fj2HDhuHRRx9FZGQkQkNDcf78+Wq/dkREBBISEpCYmChv+/PPP832+eOPPxAcHIw5c+aga9euCA8PR1xcnNk+Go0GBoPhtu914sQJ5OXlydv2798PlUqFNm3aVLvmmjB9voSEBHnb6dOnkZmZiXbt2snbWrdujeeeew47duzAyJEjsWrVKvmxoKAgTJkyBRs3bsTzzz+PTz/91Cq1mijaVT548OAazd8LCQnBe++9BwD4/PPPrVVWjXm73BxVLoqi/B8MEVF9cHZ2xujRozF79mxkZ2djwoQJ8mPh4eHYsGED/vjjD3h4eOCdd95BcnKyWShVJTo6Gq1bt8b48ePx5ptvIjs7G3PmzDHbJzw8HPHx8Vi7di26deuGLVu2yC1Sk5CQEMTGxuL48eNo3rw5XFxcyk0DGzNmDBYsWIDx48dj4cKFSE1NxVNPPYWxY8fK3eS1ZTAYcPz4cbNtWq0W0dHR6NChA8aMGYOlS5eipKQETz75JPr27YuuXbuioKAAL7zwAu6//360bNkSV69exaFDhzBq1CgAwLPPPovBgwejdevWuHHjBvbs2YOIiIg61Xo7jX46WFFREbKzs80uluZVunKa3mBEdmGJxV+fiOh2Hn/8cdy4cQMDBw40Ox49d+5c3HnnnRg4cCD69esHf39/DB8+vNqvq1KpsGnTJhQUFKB79+6YNGkSXnvtNbN9/v3vf+O5557D9OnT0alTJ/zxxx+YN2+e2T6jRo3CoEGD0L9/f/j4+FQ4JU2n02H79u3IyMhAt27dcP/992PAgAH44IMPavaPUYHc3Fx07tzZ7BITEwNBEPDDDz/Aw8MDffr0QXR0NEJDQ7Fu3ToAgFqtRnp6OsaNG4fWrVvjwQcfxODBg/Hyyy8DkH4QTJs2DRERERg0aBBat26Njz76qM71VkUQxWpOGLQyQRCwadOmav9B9evXD506dbrtsnwLFy6U/4HLysrKqvHAiap0WLAdOUUl+N/zfRHqY92pAERkeYWFhYiNjUXLli3h4OCgdDnUCFX1N5adnQ03N7dqZVOjb3HPnj0bWVlZ8qXscQxL4uk9iYioPjT66WBarbZeltPzdtbiSno+0jlAjYiIrKjRt7jry80WN4ObiIisR9EWd25uLi5evCjfN4049PT0RIsWLTB79mxcu3YNX375pbyPaVRgbm4uUlNTcfz4cWg0mmqPkLQW03rlqewqJyIiK1I0uA8fPoz+/fvL92fMmAEAGD9+PFavXo3ExETEx8ebPadz587y7SNHjmDNmjUIDg7GlStX6qXmytw80Qhb3ES2rIGM16VGyFJ/W4oGd79+/ar8ILee8QZouP9RebOrnMimmZbQ1Ov1cHR0VLgaaozy8/MBlF/5raYa/eC0+sJTexLZNjs7O+h0OqSmpsLe3h4qFYcAkWWIooj8/HykpKTA3d3dbJ312mBwW4iXM5c9JbJlgiAgICAAsbGx5ZbrJLIEd3f3Ks+OVl0MbgsxdZWzxU1kuzQaDcLDw612cgxquuzt7evc0jZhcFuIqcWdU1SCwmIDHOwt8wURUf1SqVRcOY0aNB7EsRBXBzto1NI/Z3oef60TEZF1MLgtRBCEm4uw5PA4NxERWQeD24LkkeV5DG4iIrIOBrcF3Wxxs6uciIisg8FtQaYWdxpb3EREZCUMbgtii5uIiKyNwW1BPlyEhYiIrIzBbUEcnEZERNbG4LYgdpUTEZG1MbgtiC1uIiKyNga3BZla3Bl5ehiMDfP0o0REZNsY3BbkqdNAEACjCNzIZ3c5ERFZHoPbguzUKnjoSo9zc2Q5ERFZAYPbwnh6TyIisiYGt4V5OXEuNxERWQ+D28K8XUzBzRY3ERFZHoPbwryceIybiIish8FtYT6lLe50BjcREVkBg9vCbra42VVORESWx+C2MHn1NLa4iYjIChjcFsbBaUREZE0MbgszdZWn5hZBFLnsKRERWRaD28JMXeX6EiNyi0oUroaIiBobBreFOWrUcNKoAbC7nIiILI/BbQXenBJGRERWwuC2Ai7CQkRE1sLgtgLTcW52lRMRkaUxuK3Ay5knGiEiIutgcFuBD0/tSUREVsLgtgK2uImIyFoY3FZwc9lTtriJiMiyGNxW4OXMUeVERGQdDG4r8GZXORERWQmD2wq8S1vc2YUlKCoxKFwNERE1JgxuK3BztIe9WgAAZOTxODcREVkOg9sKBEGAl1Npd3kOg5uIiCyHwW0lHKBGRETWwOC2Eg5QIyIia2BwW8nNFje7yomIyHIY3Fbi48xTexIRkeUxuK2Ex7iJiMgaGNxWIi97yulgRERkQQxuKzGdaCQ1hy1uIiKyHAa3lZhWT2OLm4iILInBbSWmrvKMPD2MRlHhaoiIqLFgcFuJp5PU4jYYRWQWFCtcDRERNRYM7ro49jWwrAuw7aVyD9mrVXDX2QPgyHIiIrIcBnddGEuA9ItA2vkKH+bqaUREZGkM7rpwD5auM+MqfNibq6cREZGFMbjrwsMU3PGAWH4AmhdXTyMiIgtjcNeFWxAgqICSQiA3pdzDPuwqJyIiC1M0uH/77TfExMQgMDAQgiBg8+bNt33O3r17ceedd0Kr1aJVq1ZYvXq11euslNoecG0m3a6gu9yrdGQ5z8lNRESWomhw5+XlITIyEh9++GG19o+NjcXQoUPRv39/HD9+HM8++ywmTZqE7du3W7nSKpiOc98oH9zeLqZlT9niJiIiy7BT8s0HDx6MwYMHV3v/FStWoGXLlnj77bcBABEREdi3bx/effddDBw40FplVs0jGIjbB2ReKfeQqcWdysFpRERkITZ1jPvAgQOIjo422zZw4EAcOHCg0ucUFRUhOzvb7GJR7i2k66pa3DzGTUREFmJTwZ2UlAQ/Pz+zbX5+fsjOzkZBQUGFz1myZAnc3NzkS1BQkGWLqmJKmLfTzcFpYgWjzomIiGrKpoK7NmbPno2srCz5kpCQYNk38KjqGLfUVV5YbES+3mDZ9yUioiZJ0WPcNeXv74/k5GSzbcnJyXB1dYWjo2OFz9FqtdBqtdYrytTizroKGEoA9c1/Up3GDo72ahQUG5CWWwQnrU39cxMRUQNkUy3uqKgo7N6922zbzp07ERUVpVBFAFwCALUGEA1A9rVyD5ta3Vw9jYiILEHR4M7NzcXx48dx/PhxANJ0r+PHjyM+Ph6A1M09btw4ef8pU6bg8uXL+M9//oOzZ8/io48+wnfffYfnnntOifIlKpW0EAtQyVxuLsJCRESWo2hwHz58GJ07d0bnzp0BADNmzEDnzp0xf/58AEBiYqIc4gDQsmVLbNmyBTt37kRkZCTefvttfPbZZ8pNBTOp6ji3vOwpW9xERFR3ih507devX5WjrStaFa1fv344duyYFauqhSpGlvvIXeVscRMRUd3Z1DHuBqvsyUZuYeoq51xuIiKyBAa3JVS17ClP7UlERBbE4LYEj8q7yk2n9kxli5uIiCyAwW0J7iHSdU4iUFxo9pA3z8lNREQWxOC2BJ0noHGWbmeZr8zGrnIiIrIkBrclCEKlx7lNLe6sgmLoS4z1XRkRETUyDG5LMZ0l7JbTe7o52kOtEgAAGXlsdRMRUd0wuC2lkkVYVCpBPi8353ITEVFdMbgtpYpFWEwjyxncRERUVwxuS6ly2VOpxc1lT4mIqK4Y3JZSRYvbmy1uIiKyEAa3pZha3AU3gMJss4fkFjcHpxERUR0xuC1F6wI4ekq3MyueEpaWwxY3ERHVDYPbkio5zi0PTmOLm4iI6ojBbUnuFZ8lTF49jS1uIiKqIwa3JVVyshF5vfI8BjcREdUNg9uSbrPsaXquHkajWN9VERFRI8LgtqRKWtyepSunlRhFZBUU13dVRETUiDC4Lcl0es8bcYB4s2WtsVPBzdEeALvLiYiobhjcluQeBEAAivOA/HSzh7xKB6il5nBkORER1R6D25LstIBLgHS7suPcbHETEVEdMLgtrZLTe3JKGBERWQKD29IqWYTlZoubXeVERFR7DG5Lq+RkI15OPNEIERHVHYPb0iprcbuUdpXz1J5ERFQHDG5Lq6TFzVN7EhGRJTC4LU1ehCUBMBrkzfKpPdniJiKiOmBwW5prM0BlBxiLgZwkeTNb3EREZAkMbktTqQG35tLtMt3lplN75usNyNeXKFEZERE1Agxua6jgZCNOGjUc7KV/bnaXExFRbTG4raGCk40IgsApYUREVGcMbmuo7PSeLqbgZoubiIhqh8FtDR4h0vWtU8KcTHO52eImIqLaYXBbQ2UtbtOypwxuIiKqJQa3NZiOcWdfA0pudoubTu3JrnIiIqotBrc1OPkAdo4ARCArQd5sanGn5BQqVBgREdk6Brc1CEKZ03ve7C4P9tIBAGLT8pWoioiIGgEGt7VUcLKRVr7OAIDLqbkwGEUlqiIiIhvH4LaWCk420txDB42dCkUlRly7UaBQYUREZMsY3NZSQYtbrRIQ6u0EALiUmqtEVUREZOMY3NZSyek9w0q7yy+mMLiJiKjmGNzWIi97Gm+2OcxHCm62uImIqDYY3NZianHnpQL6PHlzK7a4iYioDhjc1uLoDji4SbfLtLpblba4L6bmQhQ5spyIiGqGwW1NFSx9GurjBEEAMvOLkZHHFdSIiKhmGNzWVMHpPR3s1Wju4QiA3eVERFRzDG5rquRkIzcHqOXd+gwiIqIqMbitqZLTe8rHudniJiKiGmJwW1MlLW55ZDmnhBERUQ0xuK2p7DHuMiPITYuwXGKLm4iIaojBbU2mM4QVZQMFN+TNpq7ya5kFyNeXKFEZERHZKAa3Ndk7Ak6+0u0yx7k9nDTwctIAAC5zgBoREdUAg9vaKjjZCMClT4mIqHYY3NbGk40QEZEFMbitrdKTjfD0nkREVHMNIrg//PBDhISEwMHBAT169MDBgwcr3be4uBiLFi1CWFgYHBwcEBkZiW3bttVjtTV0uylhbHETEVENKB7c69atw4wZM7BgwQIcPXoUkZGRGDhwIFJSUircf+7cufj444+xbNkynD59GlOmTMGIESNw7Nixeq68mipY9hS4GdyxaXkoMRjruyoiIrJRigf3O++8gyeeeAITJ05Eu3btsGLFCuh0Onz++ecV7v/VV1/hpZdewpAhQxAaGoqpU6diyJAhePvtt+u58mpyL9NVXmYud6CbIxzt1Sg2iEi4UaBQcUREZGsUDW69Xo8jR44gOjpa3qZSqRAdHY0DBw5U+JyioiI4ODiYbXN0dMS+ffsq3T87O9vsUq/cmgOCCigpBHKT5c0qlYDQ0uPc7C4nIqLqUjS409LSYDAY4OfnZ7bdz88PSUlJFT5n4MCBeOedd3DhwgUYjUbs3LkTGzduRGJiYoX7L1myBG5ubvIlKCjI4p+jSmp7wLW5dJtTwoiIqI4U7yqvqffeew/h4eFo27YtNBoNpk+fjokTJ0KlqvijzJ49G1lZWfIlISGhnivGbY9zs8VNRETVpWhwe3t7Q61WIzk52Wx7cnIy/P39K3yOj48PNm/ejLy8PMTFxeHs2bNwdnZGaGhohftrtVq4urqaXeodR5YTEZGFKBrcGo0GXbp0we7du+VtRqMRu3fvRlRUVJXPdXBwQLNmzVBSUoLvv/8ew4YNs3a5tSe3uK+YbS7bVS6WGbhGRERUmVoFd0JCAq5evSrfP3jwIJ599ll88sknNX6tGTNm4NNPP8UXX3yBM2fOYOrUqcjLy8PEiRMBAOPGjcPs2bPl/f/66y9s3LgRly9fxu+//45BgwbBaDTiP//5T20+Sv2opMUd4q2DSgByCkuQmlOkQGFERGRrahXcjzzyCPbs2QMASEpKwj333IODBw9izpw5WLRoUY1ea/To0Xjrrbcwf/58dOrUCcePH8e2bdvkAWvx8fFmA88KCwsxd+5ctGvXDiNGjECzZs2wb98+uLu71+aj1I9KjnFr7dQI9iodWc4BakREVA2CWIs+Wg8PD/z5559o06YN3n//faxbtw779+/Hjh07MGXKFFy+fNkatVpEdnY23NzckJWVVX/Hu7MTgXfaAoIamJsCqO3khyZ9cQi7zqTglWHtMTYqpH7qISKiBqUm2VSrFndxcTG0Wi0AYNeuXfj3v/8NAGjbtm2l07KaNGc/QK0FRAOQfdXsIZ5shIiIaqJWwd2+fXusWLECv//+O3bu3IlBgwYBAK5fvw4vLy+LFtgoqFSAe+n88UrncvO83EREdHu1Cu7//ve/+Pjjj9GvXz88/PDDiIyMBAD8+OOP6N69u0ULbDTcKz5LGKeEERFRTdjdfpfy+vXrh7S0NGRnZ8PDw0PePnnyZOh0OosV16hUMkDN1OJOyi5ETmExXBzs67syIiKyIbVqcRcUFKCoqEgO7bi4OCxduhTnzp2Dr6+vRQtsNCqZEubmaA8fF2m8wGV2lxMR0W3UKriHDRuGL7/8EgCQmZmJHj164O2338bw4cOxfPlyixbYaFTS4gaAVj7sLiciouqpVXAfPXoUvXv3BgBs2LABfn5+iIuLw5dffon333/fogU2GpW0uAEgzFeay82TjRAR0e3UKrjz8/Ph4uICANixYwdGjhwJlUqFf/3rX4iLKx9MBMAjRLrOTQKKzc+/zRY3ERFVV62Cu1WrVti8eTMSEhKwfft23HvvvQCAlJQUZU7iYQscPQCN9GMHmeZnKGvlK23n6mlERHQ7tQru+fPnY+bMmQgJCUH37t3lE4Ls2LEDnTt3tmiBjYYgVD6yvLSrPD49H8UGY31XRkRENqRW08Huv/9+3HXXXUhMTJTncAPAgAEDMGLECIsV1+i4BwPJfwM3rpht9nd1gJNGjTy9AXHpeXILnIiI6Fa1Cm4A8Pf3h7+/v3yWsObNm3PxlduppMUtCALCfJ1x8moWLqYwuImIqHK16io3Go1YtGgR3NzcEBwcjODgYLi7u+OVV16B0ciu3kqZBqilXyr3UKsy5+YmIiKqTK1a3HPmzMHKlSvx+uuvo1evXgCAffv2YeHChSgsLMRrr71m0SIbjYDSwwpXDwOiKB33LsWTjRARUXXUKri/+OILfPbZZ/JZwQCgY8eOaNasGZ588kkGd2UCOgEqeyAvReouN7XAUfZkIwxuIiKqXK26yjMyMtC2bdty29u2bYuMjIw6F9Vo2TsAAR2l21cPmz1kOtnIpZRc1OIU6URE1ETUKrgjIyPxwQcflNv+wQcfoGPHjnUuqlFr3k26TjhotjnYSwc7lYA8vQFJ2YUKFEZERLagVl3lb7zxBoYOHYpdu3bJc7gPHDiAhIQEbN261aIFNjrNuwF/rQCumge3vVqFYC8dLqXm4WJKLgLcHBUqkIiIGrJatbj79u2L8+fPY8SIEcjMzERmZiZGjhyJf/75B1999ZWla2xcgkqnzCWdKr/0KQeoERHRbdR6HndgYGC5QWgnTpzAypUr8cknn9S5sEbLLQhw9pfWLL9+HAiOkh+SBqglc4AaERFVqlYtbqoDQQCad5Vu39JdzhY3ERHdDoNbCabu8oTKgjuvvisiIiIbweBWQvPS4L56SFqIpVRo6VzutNwiZOUXK1EZERE1cDU6xj1y5MgqH8/MzKxLLU1HYCdAZQfkJgNZCYB7CwCAs9YOAW4OSMwqxMXUXHQJ9lC2TiIianBqFNxubm63fXzcuHF1KqhJsHcE/DsA149J3eWlwQ1IA9QSswpxicFNREQVqFFwr1q1ylp1ND3Nu0vBffUQ0OF+eXMrX2fsu5iGSxygRkREFeAxbqUElTnOXQZPNkJERFVhcCvFtPRp4kmg+OYSp2E+TgB4shEiIqoYg1sp7i0AJ1/AWAwkHpc3m6aExWfko7DYoFBxRETUUDG4lSIIFc7n9nHWwsXBDkYRiEvPV6g4IiJqqBjcSjJ1l5c5zi0IAldQIyKiSjG4lRRU8UIsrXwY3EREVDEGt5ICOkkLseQkAllX5c2mkeUcoEZERLdicCtJowP87pBulznhCFvcRERUGQa30uTu8sPyJtMx7stpuTAaxYqeRURETRSDW2nNy48sb+7hCI1ahcJiI65lFihUGBERNUQMbqWZzs2deEJeiMVOrUJLb2khlos8zk1ERGUwuJXmEQI4+UgLsSSdlDeH+ZauoMbj3EREVAaDW2mCUGF3uWmAGkeWExFRWQzuhiDItBDLzeDmyUaIiKgiDO6GwLSCWsLNFdTC5BZ3nhIVERFRA8XgbggCOwOCGsi5DmRdA3AzuDPy9MjI0ytZHRERNSAM7oZA4wT4my/E4qhRo5m7IwAe5yYiopsY3A2FPEDtZnc5TzZCRES3YnA3FM3LD1BjcBMR0a0Y3A2FaWR54gmgpAgAEF4a3KeuZSlVFRERNTAM7obCoyWg8wYMeiBRWojlX6FeAIBj8TeQV1SiZHVERNRAMLgbCkEoc8IRqbs82EuHZu6OKDaIOBiboWBxRETUUDC4GxLTuuWlK6gJgoDe4d4AgH0X05SqioiIGhAGd0PSvPwpPu8yBfcFBjcRETG4G5ZmdwKCCsi+CmRfBwD0DPOGIADnknOQkl2ocIFERKQ0BndDonEC/NpLt0u7yz2dNGgf6AqA3eVERMTgbnjk7vKbC7Hc1coHAIObiIgY3A1PUPng7l3mOLcoikpURUREDQSDu6ExraB2/ThQIp1cpEuwB7R2KqTkFOECV1EjImrSGkRwf/jhhwgJCYGDgwN69OiBgwcPVrn/0qVL0aZNGzg6OiIoKAjPPfccCgsbycAtz1BA5wUYioAkaSEWB3s1urf0BMDR5URETZ3iwb1u3TrMmDEDCxYswNGjRxEZGYmBAwciJSWlwv3XrFmDF198EQsWLMCZM2ewcuVKrFu3Di+99FI9V24lglBm3fKyx7k5n5uIiBpAcL/zzjt44oknMHHiRLRr1w4rVqyATqfD559/XuH+f/zxB3r16oVHHnkEISEhuPfee/Hwww/ftpVuU0zBnXDzM5nmc/95OR36EqMSVRERUQOgaHDr9XocOXIE0dHR8jaVSoXo6GgcOHCgwuf07NkTR44ckYP68uXL2Lp1K4YMGVLh/kVFRcjOzja7NHgVDFCL8HeFl5MG+XoDjidkKlMXEREpTtHgTktLg8FggJ+fn9l2Pz8/JCUlVficRx55BIsWLcJdd90Fe3t7hIWFoV+/fpV2lS9ZsgRubm7yJSgoyOKfw+ICSxdiyUoAshMBACqVgJ6m7vILqUpWR0REClK8q7ym9u7di8WLF+Ojjz7C0aNHsXHjRmzZsgWvvPJKhfvPnj0bWVlZ8iUhIaGeK64FrTPgW7oQS9lpYaXB/TuPcxMRNVl2Sr65t7c31Go1kpOTzbYnJyfD39+/wufMmzcPY8eOxaRJkwAAHTp0QF5eHiZPnow5c+ZApTL/LaLVaqHVaq3zAawpqBuQfEo6U1i7fwMAepUe5z6RkImsgmK4OdorWSERESlA0Ra3RqNBly5dsHv3bnmb0WjE7t27ERUVVeFz8vPzy4WzWq0GgMa1OIlpBbWEmy3uZu6OCPV2glGUBqkREVHTo3hX+YwZM/Dpp5/iiy++wJkzZzB16lTk5eVh4sSJAIBx48Zh9uzZ8v4xMTFYvnw51q5di9jYWOzcuRPz5s1DTEyMHOCNgrwQyzF5IRaAZwsjImrqFO0qB4DRo0cjNTUV8+fPR1JSEjp16oRt27bJA9bi4+PNWthz586FIAiYO3curl27Bh8fH8TExOC1115T6iNYh1cY4OgJFGRIXebNugCQ5nN/eSCO87mJiJooQWxU/cu3l52dDTc3N2RlZcHV1VXpcqr2zYPAhe3AoP8C/5oCAMguLEbnRTthMIrYN6s/mnvoFC6SiIjqqibZpHhXOVUhqLS7PG6fvMnVwR6Rzd0AAPvZ6iYianIY3A1Z+EDp+vwOoCBT3nxXuHSaz995nJuIqMlhcDdk/h2k+dyGIuD0Znmzad3yPy6lw2hsUkc6iIiaPAZ3QyYIQORD0u0Ta+XNnVu4w0mjRkaeHqcTbWAJVyIishgGd0PX4QFp+dP4A0DGZQCAvVqFf4V6AeDZwoiImhoGd0PnGgCE9pdun/xO3sz53ERETROD2xZEPixdn/gWKJ29ZzrOffBKBgqLDUpVRkRE9YzBbQvaDgU0zsCNK0DCXwCAVr7O8HPVQl9ixOErN5Stj4iI6g2D2xZodEC7YdLtE98CAARBwF2tSqeFXeRpPomImgoGt60wjS7/exNQXAgAuCtcGqDGhViIiJoOBretCL4LcG0OFGUB538BAPQqPc79z/VsZOTpq3o2ERE1EgxuW6FSAZGjpdulc7p9XRzQ1t8FoshWNxFRU8HgtiUdS7vLL+wEcqXj2qbR5ZwWRkTUNDC4bYlPa+n0nqIB+HsDAKCXaT73xTQ0sRO9ERE1SQxuW1N2TjeAHi09oVGrcC2zAFfS8xUsjIiI6gOD29a0Hwmo7IHEE0Dyaeg0drgz2B0AsO8Cp4URETV2DG5b4+QFtC493edJaZCafJybA9SIiBo9BrctMs3pPvkdYDTI5+f+41I6SgxGBQsjIiJrY3DbovB7AUcPICcRiP0NHZq5wc3RHjmFJTh5LUvp6oiIyIoY3LbITgvcMUq6fWIt1CoBPcNKT/PJaWFERI0ag9tWmUaXn/kRKMqVV1HjcW4iosaNwW2rmnUBvFoBxfnAmZ/Qu3Q+97H4G8grKlG4OCIishYGt60ShJuD1E58i2AvJwR5OqLYIOKv2HRlayMiIqthcNuyjqVrl8f+BmRdlaeF/Xae3eVERI0Vg9uWubcAQnoDEIGT36F/G18AwI8nrqOw2KBsbUREZBUMblsnd5evxd1tfBDo5oCMPD1+OnFd2bqIiMgqGNy2LuLfgJ0jkHYOdsknMDYqBACwav8VnnSEiKgRYnDbOgdXIOI+6faJtXioWxAc7FU4nZiNQ1duKFsbERFZHIO7MTCdp/vvDfDQAiM6NwMArP4jVsGiiIjIGhjcjUFoP8DZD8hPBy7uwvieIQCA7f8k41pmgaKlERGRZTG4GwO1HdDhAen2iW/R1t8VUaFeMBhFfP1nnLK1ERGRRTG4GwvTEqjntwH5GZjQKwQA8O3BeBToOTWMiKixYHA3Fv53AH4dAIMe+GcjoiP80NzDEZn5xfjh+DWlqyMiIgthcDcmnUpb3fvfg7qkAONLp4at/oNTw4iIGgsGd2Ny53jAtTmQGQ/89gYe7BoER3s1zibl4M/LGUpXR0REFsDgbky0zsDQt6TbfyyDW84FjLyTU8OIiBoTBndj02Yw0PY+wFgC/PwsJkS1AADsPJ2MhIx8hYsjIqK6YnA3RoPfADTOQMJfCL+6Eb3DvWEUga84NYyIyOYxuBsjt2bA3XOl27sWYPKdzgCAtQfjka8vUbAwIiKqKwZ3Y9V9MhAQCRRm4a5L7yLYS4fswhJsOsapYUREtozB3Vip1EDMe4CggvD3erzYOhEAsJpnDSMismkM7sYssLPU8gYwMPYNeGoMuJCSi/0X0xUujIiIaovB3dj1nwO4BEKVGYt3A3YB4NQwIiJbxuBu7BxcgcH/BQD0SV2DMOEadp9NQVx6nsKFERFRbTC4m4KIGKD1IAjGYnzo+iVEUcSXBzg1jIjIFjG4mwJBAIa8Cdjr0LboFB5Q/4rvDiUgr4hTw4iIbA2Du6lwbwH0mw0AmGv/LeyLMvD90asKF0VERDXF4G5K/jUV8OsAN+TgJfs1WP3HFRiNnBpGRGRLGNxNidoeiFkKEQLuV/8Gv/SD+P1imtJVERFRDTC4m5rmXSF0exwA8Krd5/h63zmFCyIioppgcDdFA+ajROeLMFUi2l36HLFpnBpGRGQrGNxNkYMb7Ia8DgB40u4HfL9jj8IFERFRdTG4m6r2I5EZ2BdaoQRDz87GH6cuKF0RERFVA4O7qRIEuD/4AXLsvBChiofbxodwI4NrmBMRNXQM7qbMvQXsJ/6ILMEF7cWLSPtkGMSiXKWrIiKiKjSI4P7www8REhICBwcH9OjRAwcPHqx03379+kEQhHKXoUOH1mPFjYdDszuQMuxbZIs6hBeeQsqnDwDFhUqXRURElVA8uNetW4cZM2ZgwYIFOHr0KCIjIzFw4ECkpKRUuP/GjRuRmJgoX/7++2+o1Wo88MAD9Vx54xHeqTe2d/oAeaIWfml/oGDNWMBQrHRZRERUAcWD+5133sETTzyBiRMnol27dlixYgV0Oh0+//zzCvf39PSEv7+/fNm5cyd0Oh2Du45G/HsE/uuxEIWiPRxjd8C4cTJgNChdFhER3ULR4Nbr9Thy5Aiio6PlbSqVCtHR0Thw4EC1XmPlypV46KGH4OTkVOHjRUVFyM7ONrtQeXZqFR4fOx7PiM9DL6qh+mcj8ONTgNGodGlERFSGosGdlpYGg8EAPz8/s+1+fn5ISkq67fMPHjyIv//+G5MmTap0nyVLlsDNzU2+BAUF1bnuxirYywl3x4zBU8VPoURUAce/AbbOBESuZ05E1FAo3lVeFytXrkSHDh3QvXv3SveZPXs2srKy5EtCQkI9Vmh7HuwaBLFtDJ4vngIjBODwSmDnPIY3EVEDoWhwe3t7Q61WIzk52Wx7cnIy/P39q3xuXl4e1q5di8cff7zK/bRaLVxdXc0uVDlBELBkZAfs1w3AS8Wl/7Z/LAP2vq5sYUREBEDh4NZoNOjSpQt2794tbzMajdi9ezeioqKqfO769etRVFSERx991NplNjlezlq8cX8HrDXcjZeLx0obf30d2P+esoUREZHyXeUzZszAp59+ii+++AJnzpzB1KlTkZeXh4kTJwIAxo0bh9mzZ5d73sqVKzF8+HB4eXnVd8lNwt1t/TCmRwusMgzGR+pHpI075wMHP1W2MCKiJs5O6QJGjx6N1NRUzJ8/H0lJSejUqRO2bdsmD1iLj4+HSmX+++LcuXPYt28fduzYoUTJTcacoRH441I63ki7D6GBAgZllA5W0+cCUU8BasX/fIiImhxBFJvWqKPs7Gy4ubkhKyuLx7ur4XhCJkYt/wMGoxG72m1Dq8tfSQ8ERAIx7wGBnZUtkIioEahJNineVU4NW6cgdzx9dzgAASMu3YcbA94EHNyAxBPAp3cDv7wIFOUoXSYRUZPB4KbbmtY/DJ1buCOnyIAppzvA8OQhoMMDgGgE/loOfNgDOLtF6TKJiJoEBjfdlp1ahXcf7ASdRo2/YjPw/l9ZwKjPgEc3Ah4hQPY1YO0jwNoxQNZVpcslImrUGNxULSHeTph/XzsAwHu7L2DprvMQw+4GnvwTuGsGoLIDzv4stb7/XM51zomIrITBTdX2UPcWeGFgGwDA0l0X8Pq2sxDtHIDoBcD//Q4E9ZBGnG97UTr+ff2YwhUTETU+DG6qkWn9W2Feacv7418vY+GP/8BoFAG/dsDEbcB9S0sHrx2XwnvbbCA/Q9GaiYgaE04Ho1r55q84zNn0NwDgoW5BeG1EB6hVgvRgTjKw/SXg7w3SfUENtOwNRMQAbe8DXKpezpaIqKmpSTYxuKnWvj9yFS9sOAGjCAzrFIi3H4iEnbpMJ87FXcCuhUDSqTLPEoCg7lKAR8QAni3ru2wiogaHwV0FBrdlbTmZiGfWHkOJUcSg9v54/+HO0NjdcgQm/ZI0cO3MT8DVQ+aP+XWQAjwiBvCNAASh/oonImogGNxVYHBb3q7TyXjym6PQG4zo38YHyx/tAgd7dcU7Z1+X5nyf+Qm4sg8Qy4w+9wwDIu4DQvsBzboCDvx+iKhpYHBXgcFtHb9fSMUTXx5GYbERPcO88Nn4rtBpbrOWeX4GcO4XKcQv/Q8wFJV5UJBa4M27SZeg7oBXOKDieEoianwY3FVgcFvPn5fT8fjqQ8jTG9A12AOfT+wGVwf76j25KAe4sFMK8oS/gMy48vs4uAPNuwLNuwNB3YBmXaQR7ERENo7BXQUGt3Udjb+BCZ8fRHZhCTo2d8OXj3WHu05T8xfKSZaOh189CFw9DFw7CpQU3LKTAPi0lQa4OXkDTj5lLqb7voDOE1BV0nVPRNQAMLirwOC2vr+vZWHsyr9wI78Ybf1d8OXj3eHr4lC3FzUUA8l/AwmlYZ5wsOJWeYUEQOd1M9ADIoGw/kCLnoBGV7e6iIgsgMFdBQZ3/TifnIMxn/2F1JwiuDna49nocDz6r2DYqy14jDo3RWqJ5yQCeWlAXgqQl1p6O1W65GcAqORPXK0BWvxLGgwX2l8KdLbMiUgBDO4qMLjrT2xaHqZ+fQRnk6TTfrbydcbcoRHo18a3/oowlAAFGTeDPPs6ELcfuLQXyL7lhCiOHkDLvlKQh/WXTqBCRFQPGNxVYHDXrxKDEesOJ+DtHeeRkacHAPRr44O5Q9uhla+zcoWJIpB+Ebi0B7i8B4j9HdDfcl5xj5ZSiHu2BLQugNa19NoF0Dibb7OrxXF8IqJSDO4qMLiVkVVQjGW7L2D1H1dQYhRhpxIwNioYzw5oDTddNUeeW5OhBLh2RArxS3ukgXFiDc5wptbeDHX/DkD4PUDYAMCtmfVqJqJGg8FdBQa3si6n5mLx1jPYdSYFAOChs8eMe1rj4e4tzJdLVVphttSlfmUfkJ8uTVcryi69LnMpzq/6dXzbAa0GAK2igRZRgJ3W+rUbioHcZCAnSbp2cJd6DZz9OQ+eqIFicFeBwd0w/HY+Fa9uOY3zybkAgDZ+Lph3XzvcFe6tcGU1ZCiRTmVqCvL8NCDuD2lO+rUjMBsYZ+8EtOxzM8hrsk670QgU50k/KPJSpFDOSaz4Oi8NFQ7Is3OQjtt7tJTe2zP05m23IHb3W1pe6d+Cs5+0iBB/NFEVGNxVYHA3HCUGI9YcjMc7O88jM78YABAd4YtZg9oi3M9F4eosID9DWhHu4m7phCt5KeaPe7WSutMd3Mq04m9p1Zf9UVDZ6PiKqOyls7A5+UiD8zITqu76F1SAW3MpyF38pelzjp7SHHidZ+ltr5u37es4vc/ScpKkQxxXfgdKikoPWzhLYxA0zqW3XQCNS5nHSm87uFtmjXxDsXSI5eIu6TtPPAH5O3NtBrQbDrQfIS0ixDX56RYM7iowuBuezHw93tt9AV8diEOJUfpzjI7wxZS+Yega4qlwdRZiNALJp27+Tz3+z5odQzdR2UmLyrj4Ay4Bpdf+t9wPkMK1bAvPUAxkJQAZl4GMWODGldLrWOm63OI2t2HvdDPU3VsA3m0AnzaAd2vAOxzQONX8s9WEPh+I/0MK60v/A1JO1/61NM5S7T4RgG9baVEfn7bSD5nbBeyNOODSbuk7jf1N+uFVlm87IOuq+Xa3IKDdMOCOkUDgnQxxAsDgrhKDu+G6mJKLt7afw/bTSTD9VXYN9sCUvmG4u60vVKpG9D+4wizpf/SxvwOi8Wbr79bR67dus9Na/n/0oigdC8+4LAV6Xqp0XD8/Ayi4UeZ2hnRdnR8cbkFSiPu0kYLcFOxOtTwUYjRKC/Bc+p90if+z/Nr2gZ2laXw679KeClPvRW6Z3ovsm/eLcm55jVuUDXSfNtLa+V6tpNkIph9g6RfMn+PoCYTdLR0KCbsbcPEDigulmv/ZBJzbKtVh4t5CaoW3HwEEdGKI2yKjwSLrPzC4q8Dgbvgupebi098uY+PRa9AbjACA1n7OmNwnDP+ODCx/2lCqP0ajFH6mEM9LkwI/7RyQdgFIPScd56+Mo6cU3vaOgL1OurZzLL1fZpvporIHrh+TRvvnpZq/lmtzoNXd0uI5of2k1n9NlRRJPQ6pZ6TaU0qv0y8CxuLbP19QSyfACRsg1RLQqer/iRcXSKH/zybg3DZp3IKJR0spwAM7V/wDTuN0+2A3GqTvJT9N+m7k6/Sb940G6QegWiuNa1CXXkzb1Palt0u3OftLPRGuzZreDwtRlP7tshKArGtS70lWgnSdXXpfUAMz/qnzWzG4q8Dgth3J2YX4fH8s1vwZj5yiEgBAgJsDHr+rJR7u3gJO2tucfYyUkZ8hhV/aeemSek4K9swE1Og4/a3snYCWvaWWbNjdUuvXWkFiKJZ+kJiC3BTsaRekwxGtBkhh3bIP4Oheu/fQ5wMXdkghfn777Q9XCKqK1xMoKbwZylWtFFhXcg9EmcMJPm2k3pWqBt4ZiqWAy4yTenRuxJXejru5bLHO6+YYCvm2V/ntjp5SD1VhFlCYWXqdBRRkmm8rKPOYaJB+AKrtpB8jVd62l56blXAzmEsKb/MPIwDzUqXn1gGDuwoMbtuTXViMb/6Mx+f7Y5GaI3VtujnaY+y/gjGhVwi8nethihXVnT4fyLgk/c+0uECaSldcWHpder+k0PyxkgJp9HvY3dJZ4ZQe+S6K1vmxoM+TwvvMT1Jg3DpYUTTW7PUcPaRDBk7epev0e9+8r7KTehoMeulS9rZBD5TopUMIpscy40t7IEoqfi97J8CntRTk3q2loCwb0FnXajeeoyFx9pPGPLg1l3p63G65OPnU+e+CwV0FBrftKiw2YNOxa/jkt8uITZO6GLV2KtzTzg/3tPNDv9a+DWMxFyJLEkXph0xFMw8Ks6UR/nJIe0ut0zq2/soxFAPpl4DUs+V7IKpzSMHOQTqe7x5cOiUxuPR2sNTVnJ9e5pJxy/0y20y9EnaO0mwMBzepx8PBTZodUG6bm/RDxVAsXYyl1wa99EOkottaV/NQdg2sl/UXGNxVYHDbPoNRxI5/krDi10s4cTVL3q5WCegW4oHoCD9ER/ghxNvKI5uJmjpDiTQzwXRIIe2c1OVsCmePECmgnf0sM49dny+NIaiPhYzqGYO7CgzuxkMURRxPyMTO08nYfSYF55LN1xpv5euMARG+uCfCD51beEDdmEalE1GjwuCuAoO78YpPz8euM8nYfTYZf13OkOeEA4Cnkwb92/giOsIXPVt5w82RXepE1HAwuKvA4G4asgqK8ev5VOw+k4w9Z1OQXXhzYI0gABH+ruje0hM9WnqiW0tPDnAjIkUxuKvA4G56ig1GHL5yA7tKQ/xyWl65fcJ8nNC9pRd6tPRE95aeCHR3VKBSImqqGNxVYHBTSnYhDl7JwMFY6XI2KafcPs09HOUWeWSQO1r5ODess5cRUaPC4K4Cg5tudSNPj8NxN3AwNh0HYzPw9/VsGIzm/1lo7FRo6++C9oGuaBfohvaBrojwd4Wjpu5LHRIRMbirwOCm28ktKsHRuBtSi/xKBv65loU8ffkFJFQCEOrjjPaBrlKgB0iB7uHE02MSUc0wuKvA4KaaMhpFxGfk45/r2fjnelbpdTbScis+QYWfqxat/VwQ7uuC1n7OCPdzQbifM1wdOJKdiCrG4K4Cg5ssJSW70CzMTydmIy49v9L9A9wcEO7ngta+zlKwl4a6M9dcJ2ryGNxVYHCTNeUUFuNCSi7OJ+XgfHIuLqTk4HxyDpKzKz99pJ1KgFolwF6tglolyPftVALs1Cr5vmmfADcHOfhb+7kg1McJWjseayeyZQzuKjC4SQlZBcW4kCyF+fnknNJAz5VPmlIXapWAYC8dWpd2zbf2d0FrPxeEeDnxFKhENoLBXQUGNzUkWQXFKNAbUGI0wmAUUWIUpWuDdF1s2l56X28wIC49X2rNJ0ut+bKLy5RlpxLQ0tsJnk4aaO3V0NqpSi9qaO3L3LZTwcH0uL0KXk5aNPdwRKC7Izx09hCa2jmYiRRQk2ziwTUiBbk52tdp+VVRFJGcXYTzpSF+ITkX51Ok69yiElxIya1TfQ72KgS6O6KZuyMC3aQwb+bhiEB3BzRzd4S/mwO76YnqGVvcRI2QKIq4nlWIiym5yCksRlGxEUUlRhSVGKTr4jK3Swzy4wXFBqTmFOF6ZgFSqtmN7+2sgb+bA/xdHRHg5lB62+HmbTcH6DRsIxBVhS1uoiZOEAQ0K20p11ZRiQFJWYW4llmA65mFuJ5ZgGs3CnA9q6B0WwEKi41Iy9UjLVePv69lV/parg52CHBzhJ+bAzRqFYyidFjAWHpowGAUYahkm7H02lD6WIlRhFG8uY9RhLyvKIoI9nJCzzAv9AzzRlSoF8/RTo0OW9xEVCuiKCIjT4+k7EIkZRUiMasQydnStXS/AElZhRUuXlNfBAG4I9ANPVt5oVeYN7qGeLD1Tw0SB6dVgcFNVL9yCouRlFWIpNJQNxhFqAUBqtIpb/K1cHMqXNlt0lQ4lD6ugkoljaQ3vYZauPkcURTx97Vs/HEpDfsvpuFSqvkJZezVAjq38ECvMG/0bOWFTkHusOca9NQAMLirwOAmajqSsgpx4HIa9l9Mxx8X03A9q9DscZ1GDV8XLVSCAAjSjwOVAAgQIAjSIQdV6XbTfQc7FZy0dnDS2sFZq4aTxnTbrnS7Wr7trLWDWiVAFAER0v9qy/4ft6LtTlo7+Dhr4epoxxH9TQiDuwoMbqKmSRRFxKXnY/+lNPxxMR0HLqcjI0+vdFmV0qhV8HLWwNtZK19LFw18XLTydi8nLdx19lbvORBFETlFJUjP1SMjrwhpuXqk5+qRnluE9Dw90nKLkJGnh6uDPdr4u6CNvJ6AjmfWqwYGdxUY3EQESGvQX0zNRXZBMYyiFEymaxGAsex98eb9wmID8opKkFtUgrwiA/L1ptslyC2SHru5zQBD6f9iTW1nobRFb7pd9jEAyCksQU5RxXPzq+LqYAdPJw08nDTw1JVeO2ngodPA08m+9Fo6AU6e3oACfWn9xQbkF5UgXy99Fukx6XMUFBtwI98U0HroDcYa16VRqxDm64y2pUHexl9a8a+ZuyN7FMpgcFeBwU1EDV1hsQFpuVKrNi2nCOmlLdzUnKLS7UVIz5VauZkFxajP/4s7adTwctbC00kD79IWv5ezpnSbPdJz9TiXlFO6tkAuCoorHpzorLVDuJ8zmrk7yusZ3HpxNd3W2cNZYweVqvEGPaeDERHZMAd7NZp76NDcQ3fbfQ1GEVkFxcjI0+NGvl66ztMjI7/0Oq/45vZ8PQQAOo0ddBo1dFo76OzV0JUeq9dp1GUeU0OnUcPdUQMvZ6m17uWkrdE56I1GEVdvFOBc6QJBpkC/lCotEHQsPhPH4jOr9VoqAXB1tIeDnVpay199c2DirRd5sKNaCnpRvDmeQLoGcMt9U0+LTqOWeyfMLqW9GF5OGrjrNIouJ8wWNxER1St9iRFX0vNwLikHqTlFyCooRlZBMbJLr2+9FJXUvIve2lxKD014Omnw/ZSede4NYIubiIgaLI2dCq39pGPe1VFYbJBDvajEKK/pb7hlsR6D0YgSgygv8GMw3myXCoI0skAoO2sApnEGgjzeIF9fIvVS5OmRbuq9KNODcSNfD6NYOhahsAQZefp678JncBMRUYPmYK+Gg70avq4OSpcCg1FEdkExMkoPPxQosMAQg5uIiKia1CoBHqWj98N8lKmBk+uIiIhsSIMI7g8//BAhISFwcHBAjx49cPDgwSr3z8zMxLRp0xAQEACtVovWrVtj69at9VQtERGRchTvKl+3bh1mzJiBFStWoEePHli6dCkGDhyIc+fOwdfXt9z+er0e99xzD3x9fbFhwwY0a9YMcXFxcHd3r//iiYiI6pni08F69OiBbt264YMPPgAAGI1GBAUF4amnnsKLL75Ybv8VK1bgzTffxNmzZ2FvX/PT9XE6GBERNTQ1ySZFu8r1ej2OHDmC6OhoeZtKpUJ0dDQOHDhQ4XN+/PFHREVFYdq0afDz88Mdd9yBxYsXw2CoeGRfUVERsrOzzS5ERES2StHgTktLg8FggJ+fn9l2Pz8/JCUlVficy5cvY8OGDTAYDNi6dSvmzZuHt99+G6+++mqF+y9ZsgRubm7yJSgoyOKfg4iIqL40iMFpNWE0GuHr64tPPvkEXbp0wejRozFnzhysWLGiwv1nz56NrKws+ZKQkFDPFRMREVmOooPTvL29oVarkZycbLY9OTkZ/v7+FT4nICAA9vb2UKtvrpcbERGBpKQk6PV6aDQas/21Wi20Wq3liyciIlKAoi1ujUaDLl26YPfu3fI2o9GI3bt3IyoqqsLn9OrVCxcvXoTReHPt2vPnzyMgIKBcaBMRETU2ineVz5gxA59++im++OILnDlzBlOnTkVeXh4mTpwIABg3bhxmz54t7z916lRkZGTgmWeewfnz57FlyxYsXrwY06ZNU+ojEBER1RvF53GPHj0aqampmD9/PpKSktCpUyds27ZNHrAWHx8Plerm74ugoCBs374dzz33HDp27IhmzZrhmWeewaxZs5T6CERERPVG8Xnc9Y3zuImIqKGxmXncREREVDMMbiIiIhui+DHu+mY6MsAV1IiIqKEwZVJ1jl43ueDOyckBAK6gRkREDU5OTg7c3Nyq3KfJDU4zGo24fv06XFxcIAhCnV8vOzsbQUFBSEhIaBKD3fh5Gzd+3saNn7fhEkUROTk5CAwMNJtJVZEm1+JWqVRo3ry5xV/X1dW1wf9hWBI/b+PGz9u48fM2TLdraZtwcBoREZENYXATERHZEAZ3HWm1WixYsKDJnMiEn7dx4+dt3Ph5G4cmNziNiIjIlrHFTUREZEMY3ERERDaEwU1ERGRDGNxEREQ2hMFdBx9++CFCQkLg4OCAHj164ODBg0qXZBULFy6EIAhml7Zt2ypdlsX89ttviImJQWBgIARBwObNm80eF0UR8+fPR0BAABwdHREdHY0LFy4oU6yF3O4zT5gwodx3PmjQIGWKraMlS5agW7ducHFxga+vL4YPH45z586Z7VNYWIhp06bBy8sLzs7OGDVqFJKTkxWquG6q83n79etX7vudMmWKQhXXzfLly9GxY0d5kZWoqCj88ssv8uON6bs1YXDX0rp16zBjxgwsWLAAR48eRWRkJAYOHIiUlBSlS7OK9u3bIzExUb7s27dP6ZIsJi8vD5GRkfjwww8rfPyNN97A+++/jxUrVuCvv/6Ck5MTBg4ciMLCwnqu1HJu95kBYNCgQWbf+bfffluPFVrOr7/+imnTpuHPP//Ezp07UVxcjHvvvRd5eXnyPs899xx++uknrF+/Hr/++iuuX7+OkSNHKlh17VXn8wLAE088Yfb9vvHGGwpVXDfNmzfH66+/jiNHjuDw4cO4++67MWzYMPzzzz8AGtd3KxOpVrp37y5OmzZNvm8wGMTAwEBxyZIlClZlHQsWLBAjIyOVLqNeABA3bdok3zcajaK/v7/45ptvytsyMzNFrVYrfvvttwpUaHm3fmZRFMXx48eLw4YNU6Qea0tJSREBiL/++qsoitL3aW9vL65fv17e58yZMyIA8cCBA0qVaTG3fl5RFMW+ffuKzzzzjHJFWZmHh4f42WefNdrvli3uWtDr9Thy5Aiio6PlbSqVCtHR0Thw4ICClVnPhQsXEBgYiNDQUIwZMwbx8fFKl1QvYmNjkZSUZPZdu7m5oUePHo32uzbZu3cvfH190aZNG0ydOhXp6elKl2QRWVlZAABPT08AwJEjR1BcXGz2Hbdt2xYtWrRoFN/xrZ/X5JtvvoG3tzfuuOMOzJ49G/n5+UqUZ1EGgwFr165FXl4eoqKiGu132+ROMmIJaWlpMBgM8PPzM9vu5+eHs2fPKlSV9fTo0QOrV69GmzZtkJiYiJdffhm9e/fG33//DRcXF6XLs6qkpCQAqPC7Nj3WGA0aNAgjR45Ey5YtcenSJbz00ksYPHgwDhw4ALVarXR5tWY0GvHss8+iV69euOOOOwBI37FGo4G7u7vZvo3hO67o8wLAI488guDgYAQGBuLkyZOYNWsWzp07h40bNypYbe2dOnUKUVFRKCwshLOzMzZt2oR27drh+PHjjfK7ZXDTbQ0ePFi+3bFjR/To0QPBwcH47rvv8PjjjytYGVnLQw89JN/u0KEDOnbsiLCwMOzduxcDBgxQsLK6mTZtGv7+++9GNUajKpV93smTJ8u3O3TogICAAAwYMACXLl1CWFhYfZdZZ23atMHx48eRlZWFDRs2YPz48fj111+VLstq2FVeC97e3lCr1eVGJiYnJ8Pf31+hquqPu7s7WrdujYsXLypditWZvs+m+l2bhIaGwtvb26a/8+nTp+Pnn3/Gnj17zE7t6+/vD71ej8zMTLP9bf07ruzzVqRHjx4AYLPfr0ajQatWrdClSxcsWbIEkZGReO+99xrtd8vgrgWNRoMuXbpg9+7d8jaj0Yjdu3cjKipKwcrqR25uLi5duoSAgAClS7G6li1bwt/f3+y7zs7Oxl9//dUkvmuTq1evIj093Sa/c1EUMX36dGzatAn/+9//0LJlS7PHu3TpAnt7e7Pv+Ny5c4iPj7fJ7/h2n7cix48fBwCb/H4rYjQaUVRU1Oi+W5nSo+Ns1dq1a0WtViuuXr1aPH36tDh58mTR3d1dTEpKUro0i3v++efFvXv3irGxseL+/fvF6Oho0dvbW0xJSVG6NIvIyckRjx07Jh47dkwEIL7zzjvisWPHxLi4OFEURfH1118X3d3dxR9++EE8efKkOGzYMLFly5ZiQUGBwpXXXlWfOScnR5w5c6Z44MABMTY2Vty1a5d45513iuHh4WJhYaHSpdfY1KlTRTc3N3Hv3r1iYmKifMnPz5f3mTJlitiiRQvxf//7n3j48GExKipKjIqKUrDq2rvd57148aK4aNEi8fDhw2JsbKz4ww8/iKGhoWKfPn0Urrx2XnzxRfHXX38VY2NjxZMnT4ovvviiKAiCuGPHDlEUG9d3a8LgroNly5aJLVq0EDUajdi9e3fxzz//VLokqxg9erQYEBAgajQasVmzZuLo0aPFixcvKl2WxezZs0cEUO4yfvx4URSlKWHz5s0T/fz8RK1WKw4YMEA8d+6cskXXUVWfOT8/X7z33ntFHx8f0d7eXgwODhafeOIJm/1RWtHnBCCuWrVK3qegoEB88sknRQ8PD1Gn04kjRowQExMTlSu6Dm73eePj48U+ffqInp6eolarFVu1aiW+8MILYlZWlrKF19Jjjz0mBgcHixqNRvTx8REHDBggh7YoNq7v1oSn9SQiIrIhPMZNRERkQxjcRERENoTBTUREZEMY3ERERDaEwU1ERGRDGNxEREQ2hMFNRERkQxjcRERENoTBTURWJwgCNm/erHQZRI0Cg5uokZswYQIEQSh3GTRokNKlEVEt8HzcRE3AoEGDsGrVKrNtWq1WoWqIqC7Y4iZqArRaLfz9/c0uHh4eAKRu7OXLl2Pw4MFwdHREaGgoNmzYYPb8U6dO4e6774ajoyO8vLwwefJk5Obmmu3z+eefo3379tBqtQgICMD06dPNHk9LS8OIESOg0+kQHh6OH3/8UX7sxo0bGDNmDHx8fODo6Ijw8PByPzSISMLgJiLMmzcPo0aNwokTJzBmzBg89NBDOHPmDAAgLy8PAwcOhIeHBw4dOoT169dj165dZsG8fPlyTJs2DZMnT8apU6fw448/olWrVmbv8fLLL+PBBx/EyZMnMWTIEIwZMwYZGRny+58+fRq//PILzpw5g+XLl8Pb27v+/gGIbInSpycjIusaP368qFarRScnJ7PLa6+9JoqidBrIKVOmmD2nR48e4tSpU0VRFMVPPvlE9PDwEHNzc+XHt2zZIqpUKvlUn4GBgeKcOXMqrQGAOHfuXPl+bm6uCED85ZdfRFEUxZiYGHHixImW+cBEjRyPcRM1Af3798fy5cvNtnl6esq3o6KizB6LiorC8ePHAQBnzpxBZGQknJyc5Md79eoFo9GIc+fOQRAEXL9+HQMGDKiyho4dO8q3nZyc4OrqipSUFADA1KlTMWrUKBw9ehT33nsvhg8fjp49e9bqsxI1dgxuoibAycmpXNe1pTg6OlZrP3t7e7P7giDAaDQCAAYPHoy4uDhs3boVO3fuxIABAzBt2jS89dZbFq+XyNbxGDcR4c8//yx3PyIiAgAQERGBEydOIC8vT358//79UKlUaNOmDVxcXBASEoLdu3fXqQYfHx+MHz8eX3/9NZYuXYpPPvmkTq9H1FixxU3UBBQVFSEpKclsm52dnTwAbP369ejatSvuuusufPPNNzh48CBWrlwJABgzZgwWLFiA8ePHY+HChUhNTcVTTz2FsWPHws/PDwCwcOFCTJkyBb6+vhg8eDBycnKwf/9+PPXUU9Wqb/78+ejSpQvat2+PoqIi/Pzzz/IPByIyx+AmagK2bduGgIAAs21t2rTB2bNnAUgjvteuXYsnn3wSAQEB+Pbbb9GuXTsAgE6nw/bt2/HMM8+gW7du0Ol0GDVqFN555x35tcaPH4/CwkK8++67mDlzJry9vXH//fdXuz6NRoPZs2fjypUrcHR0RO/evbF27VoLfHKixkcQRVFUuggiUo4gCNi0aROGDx+udClEVA08xk1ERGRDGNxEREQ2hMe4iZo4Hi0jsi1scRMREdkQBjcREZENYXATERHZEAY3ERGRDWFwExER2RAGNxERkQ1hcBMREdkQBjcREZEN+X89N8AV7gonzwAAAABJRU5ErkJggg==\n"
          },
          "metadata": {}
        }
      ]
    },
    {
      "cell_type": "code",
      "source": [
        "import numpy as np\n",
        "import matplotlib.pyplot as plt\n",
        "from sklearn.metrics import confusion_matrix, ConfusionMatrixDisplay\n",
        "\n",
        "# Get predictions from the model\n",
        "y_pred = (model.predict(X_test) > 0.5).astype(int)\n",
        "\n",
        "# Compute the confusion matrix\n",
        "cm = confusion_matrix(Y_test, y_pred)\n",
        "\n",
        "# Plot the confusion matrix\n",
        "disp = ConfusionMatrixDisplay(confusion_matrix=cm)\n",
        "disp.plot(cmap=plt.cm.Blues)\n",
        "plt.title('Confusion Matrix')\n",
        "plt.show()"
      ],
      "metadata": {
        "colab": {
          "base_uri": "https://localhost:8080/",
          "height": 489
        },
        "id": "RFtdFptMrZUn",
        "outputId": "2de1897f-b32b-4961-856b-f049f6e088e2"
      },
      "execution_count": null,
      "outputs": [
        {
          "output_type": "stream",
          "name": "stdout",
          "text": [
            "\u001b[1m16/16\u001b[0m \u001b[32m━━━━━━━━━━━━━━━━━━━━\u001b[0m\u001b[37m\u001b[0m \u001b[1m0s\u001b[0m 3ms/step \n"
          ]
        },
        {
          "output_type": "display_data",
          "data": {
            "text/plain": [
              "<Figure size 640x480 with 2 Axes>"
            ],
            "image/png": "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\n"
          },
          "metadata": {}
        }
      ]
    },
    {
      "cell_type": "code",
      "source": [
        "# Plot Accuracy\n",
        "plt.subplot(1, 2, 2)\n",
        "plt.plot(history.history['accuracy'], label='Training Accuracy')\n",
        "plt.plot(history.history['val_accuracy'], label='Validation Accuracy')\n",
        "plt.title('Training and Validation Accuracy')\n",
        "plt.xlabel('Epochs')\n",
        "plt.ylabel('Accuracy')\n",
        "plt.legend()\n",
        "\n",
        "plt.tight_layout()\n",
        "plt.show()"
      ],
      "metadata": {
        "colab": {
          "base_uri": "https://localhost:8080/",
          "height": 487
        },
        "id": "MDihUpSjIHox",
        "outputId": "e2f648d0-faa5-4746-832b-8c28bb8b19de"
      },
      "execution_count": null,
      "outputs": [
        {
          "output_type": "display_data",
          "data": {
            "text/plain": [
              "<Figure size 640x480 with 1 Axes>"
            ],
            "image/png": "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\n"
          },
          "metadata": {}
        }
      ]
    }
  ]
}







Comparison of My Model with Other Group Models
The model I developed was the best-performing in the group based on the accuracy metric. The differences in model performance were influenced by several key factors, which are analyzed below:
1. Different Optimizers
Optimizers play a crucial role in adjusting weights and biases during training.
My model used the Adam optimizer, which provided stable and efficient weight updates.
Willy Kalisa’s model used SGD with L2 regularization, which resulted in low accuracy (43.45%) but high recall (77.33%). The high dropout rate (0.6931) likely impacted the model's performance negatively.
Justice Chukwuonye’s model used RMSprop with L1 regularization, achieving 62.00% accuracy with an excellent F1 score (77.00%) and perfect recall (100%), but lower precision (62.00%).
This emphasizes how the combination of optimizer and regularization method impacts performance.
2. Number of Neurons and Dropout Rate
The architecture of the models, particularly the number of neurons and dropout rate, influenced key metrics like accuracy, precision, recall, and F1-score.
The least-performing model (Willy Kalisa) used a high dropout rate of 0.6931, which likely led to underfitting.
The best-performing model (mine) used L2 regularization with Adam optimizer, without an explicitly mentioned dropout rate.
Justice Chukwuonye’s model used dropout rates of 0.3 and 0.2, balancing generalization well, contributing to its high recall (100%) and strong F1 score (77.00%).
3. Performance Metrics Comparison
My model had the highest accuracy (72.90%), balancing precision (71.00%) but with lower recall (33.00%).
Willy Kalisa’s model had the highest recall (77.33%) but suffered in accuracy due to high dropout.
Justice Chukwuonye’s model had an outstanding F1 score (77.00%) and perfect recall (100%), but lower precision (62.00%).
4. Key Takeaways
Regularization Impact: L2 regularization proved more effective for accuracy than L1.
Dropout Rate Effect: A lower dropout rate (0.3, 0.2 in Justice’s model) led to better generalization compared to Willy’s very high dropout (0.6931).
Optimizer Selection: While Adam performed well, RMSprop helped Justice’s model achieve outstanding recall.
Conclusion
Each model had trade-offs, and performance was influenced by a combination of hyperparameters. Fine-tuning dropout, optimizer settings, and neuron count could further optimize my model. Adjusting these factors could potentially increase recall while maintaining high accuracy.

